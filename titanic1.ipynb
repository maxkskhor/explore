{
 "cells": [
  {
   "cell_type": "code",
   "execution_count": 1,
   "id": "c02078a7",
   "metadata": {
    "_cell_guid": "b1076dfc-b9ad-4769-8c92-a6c4dae69d19",
    "_uuid": "8f2839f25d086af736a60e9eeb907d3b93b6e0e5",
    "execution": {
     "iopub.execute_input": "2022-09-27T09:41:23.642198Z",
     "iopub.status.busy": "2022-09-27T09:41:23.641225Z",
     "iopub.status.idle": "2022-09-27T09:41:24.922385Z",
     "shell.execute_reply": "2022-09-27T09:41:24.921486Z"
    },
    "papermill": {
     "duration": 1.297405,
     "end_time": "2022-09-27T09:41:24.927816",
     "exception": false,
     "start_time": "2022-09-27T09:41:23.630411",
     "status": "completed"
    },
    "tags": []
   },
   "outputs": [
    {
     "name": "stdout",
     "output_type": "stream",
     "text": [
      "/kaggle/input/titanic/train.csv\n",
      "/kaggle/input/titanic/test.csv\n",
      "/kaggle/input/titanic/gender_submission.csv\n"
     ]
    },
    {
     "data": {
      "text/html": [
       "<div>\n",
       "<style scoped>\n",
       "    .dataframe tbody tr th:only-of-type {\n",
       "        vertical-align: middle;\n",
       "    }\n",
       "\n",
       "    .dataframe tbody tr th {\n",
       "        vertical-align: top;\n",
       "    }\n",
       "\n",
       "    .dataframe thead th {\n",
       "        text-align: right;\n",
       "    }\n",
       "</style>\n",
       "<table border=\"1\" class=\"dataframe\">\n",
       "  <thead>\n",
       "    <tr style=\"text-align: right;\">\n",
       "      <th></th>\n",
       "      <th>PassengerId</th>\n",
       "      <th>Survived</th>\n",
       "      <th>Pclass</th>\n",
       "      <th>Age</th>\n",
       "      <th>SibSp</th>\n",
       "      <th>Parch</th>\n",
       "      <th>Fare</th>\n",
       "    </tr>\n",
       "  </thead>\n",
       "  <tbody>\n",
       "    <tr>\n",
       "      <th>count</th>\n",
       "      <td>891.000000</td>\n",
       "      <td>891.000000</td>\n",
       "      <td>891.000000</td>\n",
       "      <td>714.000000</td>\n",
       "      <td>891.000000</td>\n",
       "      <td>891.000000</td>\n",
       "      <td>891.000000</td>\n",
       "    </tr>\n",
       "    <tr>\n",
       "      <th>mean</th>\n",
       "      <td>446.000000</td>\n",
       "      <td>0.383838</td>\n",
       "      <td>2.308642</td>\n",
       "      <td>29.699118</td>\n",
       "      <td>0.523008</td>\n",
       "      <td>0.381594</td>\n",
       "      <td>32.204208</td>\n",
       "    </tr>\n",
       "    <tr>\n",
       "      <th>std</th>\n",
       "      <td>257.353842</td>\n",
       "      <td>0.486592</td>\n",
       "      <td>0.836071</td>\n",
       "      <td>14.526497</td>\n",
       "      <td>1.102743</td>\n",
       "      <td>0.806057</td>\n",
       "      <td>49.693429</td>\n",
       "    </tr>\n",
       "    <tr>\n",
       "      <th>min</th>\n",
       "      <td>1.000000</td>\n",
       "      <td>0.000000</td>\n",
       "      <td>1.000000</td>\n",
       "      <td>0.420000</td>\n",
       "      <td>0.000000</td>\n",
       "      <td>0.000000</td>\n",
       "      <td>0.000000</td>\n",
       "    </tr>\n",
       "    <tr>\n",
       "      <th>25%</th>\n",
       "      <td>223.500000</td>\n",
       "      <td>0.000000</td>\n",
       "      <td>2.000000</td>\n",
       "      <td>20.125000</td>\n",
       "      <td>0.000000</td>\n",
       "      <td>0.000000</td>\n",
       "      <td>7.910400</td>\n",
       "    </tr>\n",
       "    <tr>\n",
       "      <th>50%</th>\n",
       "      <td>446.000000</td>\n",
       "      <td>0.000000</td>\n",
       "      <td>3.000000</td>\n",
       "      <td>28.000000</td>\n",
       "      <td>0.000000</td>\n",
       "      <td>0.000000</td>\n",
       "      <td>14.454200</td>\n",
       "    </tr>\n",
       "    <tr>\n",
       "      <th>75%</th>\n",
       "      <td>668.500000</td>\n",
       "      <td>1.000000</td>\n",
       "      <td>3.000000</td>\n",
       "      <td>38.000000</td>\n",
       "      <td>1.000000</td>\n",
       "      <td>0.000000</td>\n",
       "      <td>31.000000</td>\n",
       "    </tr>\n",
       "    <tr>\n",
       "      <th>max</th>\n",
       "      <td>891.000000</td>\n",
       "      <td>1.000000</td>\n",
       "      <td>3.000000</td>\n",
       "      <td>80.000000</td>\n",
       "      <td>8.000000</td>\n",
       "      <td>6.000000</td>\n",
       "      <td>512.329200</td>\n",
       "    </tr>\n",
       "  </tbody>\n",
       "</table>\n",
       "</div>"
      ],
      "text/plain": [
       "       PassengerId    Survived      Pclass         Age       SibSp  \\\n",
       "count   891.000000  891.000000  891.000000  714.000000  891.000000   \n",
       "mean    446.000000    0.383838    2.308642   29.699118    0.523008   \n",
       "std     257.353842    0.486592    0.836071   14.526497    1.102743   \n",
       "min       1.000000    0.000000    1.000000    0.420000    0.000000   \n",
       "25%     223.500000    0.000000    2.000000   20.125000    0.000000   \n",
       "50%     446.000000    0.000000    3.000000   28.000000    0.000000   \n",
       "75%     668.500000    1.000000    3.000000   38.000000    1.000000   \n",
       "max     891.000000    1.000000    3.000000   80.000000    8.000000   \n",
       "\n",
       "            Parch        Fare  \n",
       "count  891.000000  891.000000  \n",
       "mean     0.381594   32.204208  \n",
       "std      0.806057   49.693429  \n",
       "min      0.000000    0.000000  \n",
       "25%      0.000000    7.910400  \n",
       "50%      0.000000   14.454200  \n",
       "75%      0.000000   31.000000  \n",
       "max      6.000000  512.329200  "
      ]
     },
     "execution_count": 1,
     "metadata": {},
     "output_type": "execute_result"
    }
   ],
   "source": [
    "# This Python 3 environment comes with many helpful analytics libraries installed\n",
    "# It is defined by the kaggle/python Docker image: https://github.com/kaggle/docker-python\n",
    "# For example, here's several helpful packages to load\n",
    "\n",
    "import numpy as np # linear algebra\n",
    "import pandas as pd # data processing, CSV file I/O (e.g. pd.read_csv)\n",
    "import seaborn as sns\n",
    "import matplotlib.pyplot as plt\n",
    "\n",
    "# Input data files are available in the read-only \"../input/\" directory\n",
    "# For example, running this (by clicking run or pressing Shift+Enter) will list all files under the input directory\n",
    "\n",
    "import os\n",
    "for dirname, _, filenames in os.walk('/kaggle/input'):\n",
    "    for filename in filenames:\n",
    "        print(os.path.join(dirname, filename))\n",
    "\n",
    "# You can write up to 20GB to the current directory (/kaggle/working/) that gets preserved as output when you create a version using \"Save & Run All\" \n",
    "# You can also write temporary files to /kaggle/temp/, but they won't be saved outside of the current session\n",
    "titanic_file_path = '../input/titanic/train.csv'\n",
    "titanic_data = pd.read_csv(titanic_file_path) \n",
    "titanic_data.describe()"
   ]
  },
  {
   "cell_type": "code",
   "execution_count": 2,
   "id": "ed059d22",
   "metadata": {
    "execution": {
     "iopub.execute_input": "2022-09-27T09:41:24.948479Z",
     "iopub.status.busy": "2022-09-27T09:41:24.947270Z",
     "iopub.status.idle": "2022-09-27T09:41:24.955421Z",
     "shell.execute_reply": "2022-09-27T09:41:24.954457Z"
    },
    "papermill": {
     "duration": 0.019839,
     "end_time": "2022-09-27T09:41:24.957758",
     "exception": false,
     "start_time": "2022-09-27T09:41:24.937919",
     "status": "completed"
    },
    "tags": []
   },
   "outputs": [
    {
     "data": {
      "text/plain": [
       "Index(['PassengerId', 'Survived', 'Pclass', 'Name', 'Sex', 'Age', 'SibSp',\n",
       "       'Parch', 'Ticket', 'Fare', 'Cabin', 'Embarked'],\n",
       "      dtype='object')"
      ]
     },
     "execution_count": 2,
     "metadata": {},
     "output_type": "execute_result"
    }
   ],
   "source": [
    "titanic_data.columns"
   ]
  },
  {
   "cell_type": "code",
   "execution_count": 3,
   "id": "347b9152",
   "metadata": {
    "execution": {
     "iopub.execute_input": "2022-09-27T09:41:24.973529Z",
     "iopub.status.busy": "2022-09-27T09:41:24.972655Z",
     "iopub.status.idle": "2022-09-27T09:41:24.991149Z",
     "shell.execute_reply": "2022-09-27T09:41:24.989855Z"
    },
    "papermill": {
     "duration": 0.02921,
     "end_time": "2022-09-27T09:41:24.993763",
     "exception": false,
     "start_time": "2022-09-27T09:41:24.964553",
     "status": "completed"
    },
    "tags": []
   },
   "outputs": [
    {
     "data": {
      "text/html": [
       "<div>\n",
       "<style scoped>\n",
       "    .dataframe tbody tr th:only-of-type {\n",
       "        vertical-align: middle;\n",
       "    }\n",
       "\n",
       "    .dataframe tbody tr th {\n",
       "        vertical-align: top;\n",
       "    }\n",
       "\n",
       "    .dataframe thead th {\n",
       "        text-align: right;\n",
       "    }\n",
       "</style>\n",
       "<table border=\"1\" class=\"dataframe\">\n",
       "  <thead>\n",
       "    <tr style=\"text-align: right;\">\n",
       "      <th></th>\n",
       "      <th>PassengerId</th>\n",
       "      <th>Survived</th>\n",
       "      <th>Pclass</th>\n",
       "      <th>Name</th>\n",
       "      <th>Sex</th>\n",
       "      <th>Age</th>\n",
       "      <th>SibSp</th>\n",
       "      <th>Parch</th>\n",
       "      <th>Ticket</th>\n",
       "      <th>Fare</th>\n",
       "      <th>Cabin</th>\n",
       "      <th>Embarked</th>\n",
       "    </tr>\n",
       "  </thead>\n",
       "  <tbody>\n",
       "    <tr>\n",
       "      <th>0</th>\n",
       "      <td>1</td>\n",
       "      <td>0</td>\n",
       "      <td>3</td>\n",
       "      <td>Braund, Mr. Owen Harris</td>\n",
       "      <td>male</td>\n",
       "      <td>22.0</td>\n",
       "      <td>1</td>\n",
       "      <td>0</td>\n",
       "      <td>A/5 21171</td>\n",
       "      <td>7.2500</td>\n",
       "      <td>NaN</td>\n",
       "      <td>S</td>\n",
       "    </tr>\n",
       "    <tr>\n",
       "      <th>1</th>\n",
       "      <td>2</td>\n",
       "      <td>1</td>\n",
       "      <td>1</td>\n",
       "      <td>Cumings, Mrs. John Bradley (Florence Briggs Th...</td>\n",
       "      <td>female</td>\n",
       "      <td>38.0</td>\n",
       "      <td>1</td>\n",
       "      <td>0</td>\n",
       "      <td>PC 17599</td>\n",
       "      <td>71.2833</td>\n",
       "      <td>C85</td>\n",
       "      <td>C</td>\n",
       "    </tr>\n",
       "    <tr>\n",
       "      <th>2</th>\n",
       "      <td>3</td>\n",
       "      <td>1</td>\n",
       "      <td>3</td>\n",
       "      <td>Heikkinen, Miss. Laina</td>\n",
       "      <td>female</td>\n",
       "      <td>26.0</td>\n",
       "      <td>0</td>\n",
       "      <td>0</td>\n",
       "      <td>STON/O2. 3101282</td>\n",
       "      <td>7.9250</td>\n",
       "      <td>NaN</td>\n",
       "      <td>S</td>\n",
       "    </tr>\n",
       "    <tr>\n",
       "      <th>3</th>\n",
       "      <td>4</td>\n",
       "      <td>1</td>\n",
       "      <td>1</td>\n",
       "      <td>Futrelle, Mrs. Jacques Heath (Lily May Peel)</td>\n",
       "      <td>female</td>\n",
       "      <td>35.0</td>\n",
       "      <td>1</td>\n",
       "      <td>0</td>\n",
       "      <td>113803</td>\n",
       "      <td>53.1000</td>\n",
       "      <td>C123</td>\n",
       "      <td>S</td>\n",
       "    </tr>\n",
       "    <tr>\n",
       "      <th>4</th>\n",
       "      <td>5</td>\n",
       "      <td>0</td>\n",
       "      <td>3</td>\n",
       "      <td>Allen, Mr. William Henry</td>\n",
       "      <td>male</td>\n",
       "      <td>35.0</td>\n",
       "      <td>0</td>\n",
       "      <td>0</td>\n",
       "      <td>373450</td>\n",
       "      <td>8.0500</td>\n",
       "      <td>NaN</td>\n",
       "      <td>S</td>\n",
       "    </tr>\n",
       "  </tbody>\n",
       "</table>\n",
       "</div>"
      ],
      "text/plain": [
       "   PassengerId  Survived  Pclass  \\\n",
       "0            1         0       3   \n",
       "1            2         1       1   \n",
       "2            3         1       3   \n",
       "3            4         1       1   \n",
       "4            5         0       3   \n",
       "\n",
       "                                                Name     Sex   Age  SibSp  \\\n",
       "0                            Braund, Mr. Owen Harris    male  22.0      1   \n",
       "1  Cumings, Mrs. John Bradley (Florence Briggs Th...  female  38.0      1   \n",
       "2                             Heikkinen, Miss. Laina  female  26.0      0   \n",
       "3       Futrelle, Mrs. Jacques Heath (Lily May Peel)  female  35.0      1   \n",
       "4                           Allen, Mr. William Henry    male  35.0      0   \n",
       "\n",
       "   Parch            Ticket     Fare Cabin Embarked  \n",
       "0      0         A/5 21171   7.2500   NaN        S  \n",
       "1      0          PC 17599  71.2833   C85        C  \n",
       "2      0  STON/O2. 3101282   7.9250   NaN        S  \n",
       "3      0            113803  53.1000  C123        S  \n",
       "4      0            373450   8.0500   NaN        S  "
      ]
     },
     "execution_count": 3,
     "metadata": {},
     "output_type": "execute_result"
    }
   ],
   "source": [
    "titanic_data.head()"
   ]
  },
  {
   "cell_type": "code",
   "execution_count": 4,
   "id": "ba016e7e",
   "metadata": {
    "execution": {
     "iopub.execute_input": "2022-09-27T09:41:25.010675Z",
     "iopub.status.busy": "2022-09-27T09:41:25.009890Z",
     "iopub.status.idle": "2022-09-27T09:41:25.256270Z",
     "shell.execute_reply": "2022-09-27T09:41:25.255055Z"
    },
    "papermill": {
     "duration": 0.258604,
     "end_time": "2022-09-27T09:41:25.259372",
     "exception": false,
     "start_time": "2022-09-27T09:41:25.000768",
     "status": "completed"
    },
    "tags": []
   },
   "outputs": [],
   "source": [
    "df = titanic_data.filter(items=['Survived','Pclass', 'Sex', 'Age', 'SibSp', 'Parch', 'Fare', 'Embarked'])\n",
    "y = df.Survived\n",
    "X = df.drop(['Survived'], axis=1)\n",
    "\n",
    "from sklearn.model_selection import train_test_split\n",
    "X_train, X_valid, y_train, y_valid = train_test_split(X, y, train_size=0.8, test_size=0.2, random_state=0)\n",
    "\n",
    "# imputation\n",
    "X_train[\"Embarked\"].fillna('S', inplace =True)\n",
    "X_train['Age'].fillna(X_train['Age'].mean(), inplace = True)\n",
    "\n",
    "X_valid[\"Embarked\"].fillna('S', inplace =True)\n",
    "X_valid['Age'].fillna(X_train['Age'].mean(), inplace = True)"
   ]
  },
  {
   "cell_type": "code",
   "execution_count": 5,
   "id": "f2ac18aa",
   "metadata": {
    "execution": {
     "iopub.execute_input": "2022-09-27T09:41:25.276403Z",
     "iopub.status.busy": "2022-09-27T09:41:25.275584Z",
     "iopub.status.idle": "2022-09-27T09:41:25.291527Z",
     "shell.execute_reply": "2022-09-27T09:41:25.290368Z"
    },
    "papermill": {
     "duration": 0.02721,
     "end_time": "2022-09-27T09:41:25.294104",
     "exception": false,
     "start_time": "2022-09-27T09:41:25.266894",
     "status": "completed"
    },
    "tags": []
   },
   "outputs": [
    {
     "data": {
      "text/html": [
       "<div>\n",
       "<style scoped>\n",
       "    .dataframe tbody tr th:only-of-type {\n",
       "        vertical-align: middle;\n",
       "    }\n",
       "\n",
       "    .dataframe tbody tr th {\n",
       "        vertical-align: top;\n",
       "    }\n",
       "\n",
       "    .dataframe thead th {\n",
       "        text-align: right;\n",
       "    }\n",
       "</style>\n",
       "<table border=\"1\" class=\"dataframe\">\n",
       "  <thead>\n",
       "    <tr style=\"text-align: right;\">\n",
       "      <th></th>\n",
       "      <th>Pclass</th>\n",
       "      <th>Age</th>\n",
       "      <th>SibSp</th>\n",
       "      <th>Parch</th>\n",
       "      <th>Fare</th>\n",
       "    </tr>\n",
       "  </thead>\n",
       "  <tbody>\n",
       "    <tr>\n",
       "      <th>Pclass</th>\n",
       "      <td>1.000000</td>\n",
       "      <td>-0.333687</td>\n",
       "      <td>0.093648</td>\n",
       "      <td>0.017336</td>\n",
       "      <td>-0.534776</td>\n",
       "    </tr>\n",
       "    <tr>\n",
       "      <th>Age</th>\n",
       "      <td>-0.333687</td>\n",
       "      <td>1.000000</td>\n",
       "      <td>-0.220956</td>\n",
       "      <td>-0.169844</td>\n",
       "      <td>0.096597</td>\n",
       "    </tr>\n",
       "    <tr>\n",
       "      <th>SibSp</th>\n",
       "      <td>0.093648</td>\n",
       "      <td>-0.220956</td>\n",
       "      <td>1.000000</td>\n",
       "      <td>0.423676</td>\n",
       "      <td>0.145538</td>\n",
       "    </tr>\n",
       "    <tr>\n",
       "      <th>Parch</th>\n",
       "      <td>0.017336</td>\n",
       "      <td>-0.169844</td>\n",
       "      <td>0.423676</td>\n",
       "      <td>1.000000</td>\n",
       "      <td>0.213608</td>\n",
       "    </tr>\n",
       "    <tr>\n",
       "      <th>Fare</th>\n",
       "      <td>-0.534776</td>\n",
       "      <td>0.096597</td>\n",
       "      <td>0.145538</td>\n",
       "      <td>0.213608</td>\n",
       "      <td>1.000000</td>\n",
       "    </tr>\n",
       "  </tbody>\n",
       "</table>\n",
       "</div>"
      ],
      "text/plain": [
       "          Pclass       Age     SibSp     Parch      Fare\n",
       "Pclass  1.000000 -0.333687  0.093648  0.017336 -0.534776\n",
       "Age    -0.333687  1.000000 -0.220956 -0.169844  0.096597\n",
       "SibSp   0.093648 -0.220956  1.000000  0.423676  0.145538\n",
       "Parch   0.017336 -0.169844  0.423676  1.000000  0.213608\n",
       "Fare   -0.534776  0.096597  0.145538  0.213608  1.000000"
      ]
     },
     "execution_count": 5,
     "metadata": {},
     "output_type": "execute_result"
    }
   ],
   "source": [
    "X_train.corr()"
   ]
  },
  {
   "cell_type": "raw",
   "id": "223da028",
   "metadata": {
    "execution": {
     "iopub.execute_input": "2022-09-27T08:02:42.863466Z",
     "iopub.status.busy": "2022-09-27T08:02:42.863041Z",
     "iopub.status.idle": "2022-09-27T08:02:42.871140Z",
     "shell.execute_reply": "2022-09-27T08:02:42.869849Z",
     "shell.execute_reply.started": "2022-09-27T08:02:42.863412Z"
    },
    "papermill": {
     "duration": 0.00697,
     "end_time": "2022-09-27T09:41:25.308141",
     "exception": false,
     "start_time": "2022-09-27T09:41:25.301171",
     "status": "completed"
    },
    "tags": []
   },
   "source": [
    "# Get list of categorical variables\n",
    "s = (X_train.dtypes == 'object')\n",
    "object_cols = list(s[s].index)\n",
    "\n",
    "print(\"Categorical variables:\")\n",
    "print(object_cols)"
   ]
  },
  {
   "cell_type": "code",
   "execution_count": 6,
   "id": "e1bcfc20",
   "metadata": {
    "execution": {
     "iopub.execute_input": "2022-09-27T09:41:25.324736Z",
     "iopub.status.busy": "2022-09-27T09:41:25.324298Z",
     "iopub.status.idle": "2022-09-27T09:41:25.355984Z",
     "shell.execute_reply": "2022-09-27T09:41:25.354691Z"
    },
    "papermill": {
     "duration": 0.043654,
     "end_time": "2022-09-27T09:41:25.359036",
     "exception": false,
     "start_time": "2022-09-27T09:41:25.315382",
     "status": "completed"
    },
    "tags": []
   },
   "outputs": [],
   "source": [
    "from sklearn.preprocessing import OneHotEncoder\n",
    "\n",
    "# Apply one-hot encoder to each column with categorical data\n",
    "OH_encoder = OneHotEncoder(handle_unknown='ignore', sparse=False)\n",
    "OH_cols_train = pd.DataFrame(OH_encoder.fit_transform(X_train[['Sex']]))\n",
    "OH_cols_valid = pd.DataFrame(OH_encoder.transform(X_valid[['Sex']]))\n",
    "\n",
    "# One-hot encoding removed index; put it back\n",
    "OH_cols_train.index = X_train.index\n",
    "OH_cols_valid.index = X_valid.index\n",
    "\n",
    "# Remove categorical columns (will replace with one-hot encoding)\n",
    "num_X_train = X_train.drop('Sex', axis=1)\n",
    "num_X_valid = X_valid.drop('Sex', axis=1)\n",
    "\n",
    "# Add one-hot encoded columns to numerical features\n",
    "OH_X_train = pd.concat([num_X_train, OH_cols_train], axis=1)\n",
    "OH_X_valid = pd.concat([num_X_valid, OH_cols_valid], axis=1)\n",
    "\n",
    "X_train = OH_X_train.rename(columns={0:'Female', 1:'Male'})\n",
    "X_valid = OH_X_valid.rename(columns={0:'Female', 1:'Male'})\n",
    "\n",
    "# OH for 'Embarked'\n",
    "OH_encoder = OneHotEncoder(handle_unknown='ignore', sparse=False)\n",
    "OH_cols_train = pd.DataFrame(OH_encoder.fit_transform(X_train[['Embarked']]))\n",
    "OH_cols_valid = pd.DataFrame(OH_encoder.transform(X_valid[['Embarked']]))\n",
    "\n",
    "# One-hot encoding removed index; put it back\n",
    "OH_cols_train.index = X_train.index\n",
    "OH_cols_valid.index = X_valid.index\n",
    "\n",
    "# Remove categorical columns (will replace with one-hot encoding)\n",
    "num_X_train = X_train.drop('Embarked', axis=1)\n",
    "num_X_valid = X_valid.drop('Embarked', axis=1)\n",
    "\n",
    "# Add one-hot encoded columns to numerical features\n",
    "OH_X_train = pd.concat([num_X_train, OH_cols_train], axis=1)\n",
    "OH_X_valid = pd.concat([num_X_valid, OH_cols_valid], axis=1)\n",
    "\n",
    "X_train = OH_X_train.rename(columns={0:'C', 1:'Q', 2:'S'})\n",
    "X_valid = OH_X_valid.rename(columns={0:'C', 1:'Q', 2:'S'})"
   ]
  },
  {
   "cell_type": "raw",
   "id": "22582452",
   "metadata": {
    "execution": {
     "iopub.execute_input": "2022-08-18T22:35:04.536030Z",
     "iopub.status.busy": "2022-08-18T22:35:04.535389Z",
     "iopub.status.idle": "2022-08-18T22:35:04.662014Z",
     "shell.execute_reply": "2022-08-18T22:35:04.661098Z",
     "shell.execute_reply.started": "2022-08-18T22:35:04.535997Z"
    },
    "papermill": {
     "duration": 0.006886,
     "end_time": "2022-09-27T09:41:25.373239",
     "exception": false,
     "start_time": "2022-09-27T09:41:25.366353",
     "status": "completed"
    },
    "tags": []
   },
   "source": [
    "## Missing Values\n",
    "from sklearn.impute import SimpleImputer\n",
    "\n",
    "cols_with_missing = [col for col in OH_X_train.columns\n",
    "                     if OH_X_train[col].isnull().any()]\n",
    "\n",
    "X_train_plus = OH_X_train.copy()\n",
    "X_valid_plus = OH_X_valid.copy()\n",
    "\n",
    "for col in cols_with_missing:\n",
    "    X_train_plus[col + '_was_missing'] = X_train_plus[col].isnull()\n",
    "    X_valid_plus[col + '_was_missing'] = X_valid_plus[col].isnull()\n",
    "\n",
    "my_imputer = SimpleImputer()\n",
    "imputed_X_train_plus = pd.DataFrame(my_imputer.fit_transform(X_train_plus))\n",
    "imputed_X_valid_plus = pd.DataFrame(my_imputer.transform(X_valid_plus))\n",
    "\n",
    "imputed_X_train_plus.columns = X_train_plus.columns\n",
    "imputed_X_valid_plus.columns = X_valid_plus.columns"
   ]
  },
  {
   "cell_type": "code",
   "execution_count": 7,
   "id": "44cfb561",
   "metadata": {
    "execution": {
     "iopub.execute_input": "2022-09-27T09:41:25.389914Z",
     "iopub.status.busy": "2022-09-27T09:41:25.389501Z",
     "iopub.status.idle": "2022-09-27T09:41:25.855580Z",
     "shell.execute_reply": "2022-09-27T09:41:25.854433Z"
    },
    "papermill": {
     "duration": 0.477715,
     "end_time": "2022-09-27T09:41:25.857997",
     "exception": false,
     "start_time": "2022-09-27T09:41:25.380282",
     "status": "completed"
    },
    "tags": []
   },
   "outputs": [
    {
     "data": {
      "text/plain": [
       "XGBRegressor(base_score=0.5, booster='gbtree', callbacks=None,\n",
       "             colsample_bylevel=1, colsample_bynode=1, colsample_bytree=1,\n",
       "             early_stopping_rounds=5, enable_categorical=False,\n",
       "             eval_metric=None, gamma=0, gpu_id=-1, grow_policy='depthwise',\n",
       "             importance_type=None, interaction_constraints='',\n",
       "             learning_rate=0.05, max_bin=256, max_cat_to_onehot=4,\n",
       "             max_delta_step=0, max_depth=6, max_leaves=0, min_child_weight=1,\n",
       "             missing=nan, monotone_constraints='()', n_estimators=500, n_jobs=0,\n",
       "             num_parallel_tree=1, predictor='auto', random_state=0, reg_alpha=0,\n",
       "             reg_lambda=1, ...)"
      ]
     },
     "execution_count": 7,
     "metadata": {},
     "output_type": "execute_result"
    }
   ],
   "source": [
    "from xgboost import XGBRegressor\n",
    "\n",
    "my_model = XGBRegressor(n_estimators=500, learning_rate=0.05, early_stopping_rounds=5)\n",
    "my_model.fit(X_train, y_train,\n",
    "             eval_set=[(X_valid, y_valid)], \n",
    "             verbose=False)"
   ]
  },
  {
   "cell_type": "raw",
   "id": "0c9c9309",
   "metadata": {
    "execution": {
     "iopub.execute_input": "2022-09-27T08:44:52.980849Z",
     "iopub.status.busy": "2022-09-27T08:44:52.979471Z",
     "iopub.status.idle": "2022-09-27T08:44:53.227000Z",
     "shell.execute_reply": "2022-09-27T08:44:53.225632Z",
     "shell.execute_reply.started": "2022-09-27T08:44:52.980763Z"
    },
    "papermill": {
     "duration": 0.006909,
     "end_time": "2022-09-27T09:41:25.872136",
     "exception": false,
     "start_time": "2022-09-27T09:41:25.865227",
     "status": "completed"
    },
    "tags": []
   },
   "source": [
    "from xgboost import plot_importance\n",
    "plot_importance(my_model)"
   ]
  },
  {
   "cell_type": "raw",
   "id": "73bf4763",
   "metadata": {
    "execution": {
     "iopub.execute_input": "2022-09-27T08:45:12.438117Z",
     "iopub.status.busy": "2022-09-27T08:45:12.437668Z",
     "iopub.status.idle": "2022-09-27T08:45:12.450376Z",
     "shell.execute_reply": "2022-09-27T08:45:12.449299Z",
     "shell.execute_reply.started": "2022-09-27T08:45:12.438077Z"
    },
    "papermill": {
     "duration": 0.006944,
     "end_time": "2022-09-27T09:41:25.886690",
     "exception": false,
     "start_time": "2022-09-27T09:41:25.879746",
     "status": "completed"
    },
    "tags": []
   },
   "source": [
    "from sklearn.metrics import accuracy_score\n",
    "xgb_predictions = my_model.predict(X_valid)\n",
    "\n",
    "t=[]\n",
    "for i in xgb_predictions:\n",
    "    if i <= 0.5:\n",
    "        t.append(0)\n",
    "    else:\n",
    "        t.append(1)\n",
    "        \n",
    "accuracy = accuracy_score(t, y_valid)\n",
    "print(\"Accuracy: \" + str(accuracy*100))"
   ]
  },
  {
   "cell_type": "markdown",
   "id": "a4d8efda",
   "metadata": {
    "execution": {
     "iopub.execute_input": "2022-09-27T09:10:18.554520Z",
     "iopub.status.busy": "2022-09-27T09:10:18.553577Z",
     "iopub.status.idle": "2022-09-27T09:10:18.560419Z",
     "shell.execute_reply": "2022-09-27T09:10:18.559403Z",
     "shell.execute_reply.started": "2022-09-27T09:10:18.554428Z"
    },
    "papermill": {
     "duration": 0.006984,
     "end_time": "2022-09-27T09:41:25.900910",
     "exception": false,
     "start_time": "2022-09-27T09:41:25.893926",
     "status": "completed"
    },
    "tags": []
   },
   "source": [
    "# Test set predictions"
   ]
  },
  {
   "cell_type": "code",
   "execution_count": 8,
   "id": "4347e86e",
   "metadata": {
    "execution": {
     "iopub.execute_input": "2022-09-27T09:41:25.918161Z",
     "iopub.status.busy": "2022-09-27T09:41:25.917430Z",
     "iopub.status.idle": "2022-09-27T09:41:25.934821Z",
     "shell.execute_reply": "2022-09-27T09:41:25.933805Z"
    },
    "papermill": {
     "duration": 0.029019,
     "end_time": "2022-09-27T09:41:25.937559",
     "exception": false,
     "start_time": "2022-09-27T09:41:25.908540",
     "status": "completed"
    },
    "tags": []
   },
   "outputs": [],
   "source": [
    "test_data_path = '../input/titanic/test.csv'\n",
    "\n",
    "# read test data file using pandas\n",
    "test_data = pd.read_csv(test_data_path)\n",
    "\n",
    "X_test = test_data.filter(items=['Pclass', 'Sex', 'Age', 'SibSp', 'Parch', 'Fare', 'Embarked'])\n",
    "\n",
    "X_test[\"Embarked\"].fillna('S', inplace =True)\n",
    "X_test['Age'].fillna(X_train['Age'].mean(), inplace = True)"
   ]
  },
  {
   "cell_type": "code",
   "execution_count": 9,
   "id": "523b1ecf",
   "metadata": {
    "execution": {
     "iopub.execute_input": "2022-09-27T09:41:25.954481Z",
     "iopub.status.busy": "2022-09-27T09:41:25.953683Z",
     "iopub.status.idle": "2022-09-27T09:41:25.967445Z",
     "shell.execute_reply": "2022-09-27T09:41:25.966150Z"
    },
    "papermill": {
     "duration": 0.025507,
     "end_time": "2022-09-27T09:41:25.970412",
     "exception": false,
     "start_time": "2022-09-27T09:41:25.944905",
     "status": "completed"
    },
    "tags": []
   },
   "outputs": [],
   "source": [
    "from sklearn.preprocessing import OneHotEncoder\n",
    "\n",
    "# Apply one-hot encoder to each column with categorical data\n",
    "OH_encoder = OneHotEncoder(handle_unknown='ignore', sparse=False)\n",
    "OH_cols_test = pd.DataFrame(OH_encoder.fit_transform(X_test[['Sex']]))\n",
    "\n",
    "# One-hot encoding removed index; put it back\n",
    "OH_cols_test.index = X_test.index\n",
    "\n",
    "# Remove categorical columns (will replace with one-hot encoding)\n",
    "num_X_test = X_test.drop('Sex', axis=1)\n",
    "\n",
    "# Add one-hot encoded columns to numerical features\n",
    "OH_X_test = pd.concat([num_X_test, OH_cols_test], axis=1)\n",
    "\n",
    "X_test = OH_X_test.rename(columns={0:'Female', 1:'Male'})"
   ]
  },
  {
   "cell_type": "code",
   "execution_count": 10,
   "id": "3d332b4f",
   "metadata": {
    "execution": {
     "iopub.execute_input": "2022-09-27T09:41:25.987550Z",
     "iopub.status.busy": "2022-09-27T09:41:25.987135Z",
     "iopub.status.idle": "2022-09-27T09:41:26.000372Z",
     "shell.execute_reply": "2022-09-27T09:41:25.999264Z"
    },
    "papermill": {
     "duration": 0.024326,
     "end_time": "2022-09-27T09:41:26.002921",
     "exception": false,
     "start_time": "2022-09-27T09:41:25.978595",
     "status": "completed"
    },
    "tags": []
   },
   "outputs": [],
   "source": [
    "# OH for 'Embarked'\n",
    "OH_encoder = OneHotEncoder(handle_unknown='ignore', sparse=False)\n",
    "OH_cols_test = pd.DataFrame(OH_encoder.fit_transform(X_test[['Embarked']]))\n",
    "\n",
    "# One-hot encoding removed index; put it back\n",
    "OH_cols_test.index = X_test.index\n",
    "\n",
    "# Remove categorical columns (will replace with one-hot encoding)\n",
    "num_X_test = X_test.drop('Embarked', axis=1)\n",
    "\n",
    "# Add one-hot encoded columns to numerical features\n",
    "OH_X_test = pd.concat([num_X_test, OH_cols_test], axis=1)\n",
    "\n",
    "X_test = OH_X_test.rename(columns={0:'C', 1:'Q', 2:'S'})"
   ]
  },
  {
   "cell_type": "code",
   "execution_count": 11,
   "id": "2b54efcf",
   "metadata": {
    "execution": {
     "iopub.execute_input": "2022-09-27T09:41:26.019595Z",
     "iopub.status.busy": "2022-09-27T09:41:26.019176Z",
     "iopub.status.idle": "2022-09-27T09:41:26.031346Z",
     "shell.execute_reply": "2022-09-27T09:41:26.030381Z"
    },
    "papermill": {
     "duration": 0.023319,
     "end_time": "2022-09-27T09:41:26.033959",
     "exception": false,
     "start_time": "2022-09-27T09:41:26.010640",
     "status": "completed"
    },
    "tags": []
   },
   "outputs": [],
   "source": [
    "from sklearn.metrics import accuracy_score\n",
    "xgb_predictions = my_model.predict(X_test)\n",
    "\n",
    "t=[]\n",
    "for i in xgb_predictions:\n",
    "    if i <= 0.5:\n",
    "        t.append(0)\n",
    "    else:\n",
    "        t.append(1)"
   ]
  },
  {
   "cell_type": "code",
   "execution_count": 12,
   "id": "46a59b58",
   "metadata": {
    "execution": {
     "iopub.execute_input": "2022-09-27T09:41:26.051343Z",
     "iopub.status.busy": "2022-09-27T09:41:26.050130Z",
     "iopub.status.idle": "2022-09-27T09:41:26.058341Z",
     "shell.execute_reply": "2022-09-27T09:41:26.057199Z"
    },
    "papermill": {
     "duration": 0.019716,
     "end_time": "2022-09-27T09:41:26.061039",
     "exception": false,
     "start_time": "2022-09-27T09:41:26.041323",
     "status": "completed"
    },
    "tags": []
   },
   "outputs": [],
   "source": [
    "y_pred = pd.DataFrame(t)\n",
    "y_pred.rename(columns={0:'Survived'}, inplace=True)\n",
    "y_pred['PassengerId'] = test_data['PassengerId']"
   ]
  },
  {
   "cell_type": "code",
   "execution_count": 13,
   "id": "6392e1cd",
   "metadata": {
    "execution": {
     "iopub.execute_input": "2022-09-27T09:41:26.078223Z",
     "iopub.status.busy": "2022-09-27T09:41:26.077812Z",
     "iopub.status.idle": "2022-09-27T09:41:26.086768Z",
     "shell.execute_reply": "2022-09-27T09:41:26.085263Z"
    },
    "papermill": {
     "duration": 0.020787,
     "end_time": "2022-09-27T09:41:26.089601",
     "exception": false,
     "start_time": "2022-09-27T09:41:26.068814",
     "status": "completed"
    },
    "tags": []
   },
   "outputs": [],
   "source": [
    "# Run the code to save predictions in the format used for competition scoring\n",
    "y_pred.to_csv('submission.csv', index=False)"
   ]
  },
  {
   "cell_type": "raw",
   "id": "736f95fa",
   "metadata": {
    "papermill": {
     "duration": 0.007291,
     "end_time": "2022-09-27T09:41:26.104303",
     "exception": false,
     "start_time": "2022-09-27T09:41:26.097012",
     "status": "completed"
    },
    "tags": []
   },
   "source": [
    "# create test_X which comes from test_data but includes only the columns you used for prediction.\n",
    "# The list of columns is stored in a variable called features\n",
    "test_X = test_data[features]\n",
    "\n",
    "# make predictions which we will submit. \n",
    "test_preds = rf_model_on_full_data.predict(test_X)"
   ]
  },
  {
   "cell_type": "raw",
   "id": "f99e0e4b",
   "metadata": {
    "execution": {
     "iopub.execute_input": "2022-09-27T08:46:24.717668Z",
     "iopub.status.busy": "2022-09-27T08:46:24.717223Z",
     "iopub.status.idle": "2022-09-27T08:46:24.939652Z",
     "shell.execute_reply": "2022-09-27T08:46:24.938428Z",
     "shell.execute_reply.started": "2022-09-27T08:46:24.717630Z"
    },
    "papermill": {
     "duration": 0.00718,
     "end_time": "2022-09-27T09:41:26.118814",
     "exception": false,
     "start_time": "2022-09-27T09:41:26.111634",
     "status": "completed"
    },
    "tags": []
   },
   "source": [
    "from sklearn.ensemble import RandomForestRegressor\n",
    "forest_model = RandomForestRegressor(random_state=1)\n",
    "forest_model.fit(X_train, y_train)\n",
    "forest_predictions = forest_model.predict(X_valid)"
   ]
  },
  {
   "cell_type": "raw",
   "id": "a6caea71",
   "metadata": {
    "execution": {
     "iopub.execute_input": "2022-09-27T08:46:25.880369Z",
     "iopub.status.busy": "2022-09-27T08:46:25.879884Z",
     "iopub.status.idle": "2022-09-27T08:46:25.888090Z",
     "shell.execute_reply": "2022-09-27T08:46:25.886848Z",
     "shell.execute_reply.started": "2022-09-27T08:46:25.880323Z"
    },
    "papermill": {
     "duration": 0.007094,
     "end_time": "2022-09-27T09:41:26.133195",
     "exception": false,
     "start_time": "2022-09-27T09:41:26.126101",
     "status": "completed"
    },
    "tags": []
   },
   "source": [
    "t=[]\n",
    "for i in forest_predictions:\n",
    "    if i <= 0.5:\n",
    "        t.append(0)\n",
    "    else:\n",
    "        t.append(1)\n",
    "        \n",
    "accuracy = accuracy_score(t, y_valid)\n",
    "print(\"Accuracy: \" + str(accuracy*100))"
   ]
  },
  {
   "cell_type": "raw",
   "id": "418d12af",
   "metadata": {
    "execution": {
     "iopub.execute_input": "2022-09-27T08:49:04.496808Z",
     "iopub.status.busy": "2022-09-27T08:49:04.496303Z",
     "iopub.status.idle": "2022-09-27T08:49:11.186797Z",
     "shell.execute_reply": "2022-09-27T08:49:11.185667Z",
     "shell.execute_reply.started": "2022-09-27T08:49:04.496771Z"
    },
    "papermill": {
     "duration": 0.007058,
     "end_time": "2022-09-27T09:41:26.147536",
     "exception": false,
     "start_time": "2022-09-27T09:41:26.140478",
     "status": "completed"
    },
    "tags": []
   },
   "source": [
    "from tensorflow import keras\n",
    "from keras import layers\n",
    "\n",
    "model = keras.Sequential([\n",
    "    layers.Dense(32, activation='relu'),\n",
    "    layers.Dense(16, activation='relu'),\n",
    "    layers.Dense(1, activation='sigmoid')\n",
    "])\n",
    "\n",
    "model.compile(optimizer=\"rmsprop\",\n",
    "             loss=\"binary_crossentropy\",\n",
    "             metrics=[\"accuracy\"])\n",
    "\n",
    "history = model.fit(X_train, y_train, epochs = 100, batch_size=128, validation_data=(X_valid, y_valid))"
   ]
  },
  {
   "cell_type": "raw",
   "id": "95867845",
   "metadata": {
    "execution": {
     "iopub.execute_input": "2022-09-27T08:57:18.248546Z",
     "iopub.status.busy": "2022-09-27T08:57:18.247839Z",
     "iopub.status.idle": "2022-09-27T08:57:18.409334Z",
     "shell.execute_reply": "2022-09-27T08:57:18.407959Z",
     "shell.execute_reply.started": "2022-09-27T08:57:18.248501Z"
    },
    "papermill": {
     "duration": 0.006927,
     "end_time": "2022-09-27T09:41:26.161858",
     "exception": false,
     "start_time": "2022-09-27T09:41:26.154931",
     "status": "completed"
    },
    "tags": []
   },
   "source": [
    "import matplotlib.pyplot as plt\n",
    "history_dict = history.history\n",
    "loss_values = history_dict[\"loss\"]\n",
    "val_loss_values = history_dict[\"val_loss\"]\n",
    "epochs = range(1, len(loss_values) + 1)\n",
    "plt.plot(epochs, loss_values, \"bo\", label=\"Training loss\")\n",
    "plt.plot(epochs, val_loss_values, \"b\", label=\"Validation loss\")\n",
    "plt.title(\"Training and validation loss\")\n",
    "plt.xlabel(\"Epochs\")\n",
    "plt.ylabel(\"Loss\")\n",
    "plt.legend()\n",
    "plt.show()"
   ]
  },
  {
   "cell_type": "raw",
   "id": "f644e2b8",
   "metadata": {
    "execution": {
     "iopub.execute_input": "2022-09-27T08:57:20.334523Z",
     "iopub.status.busy": "2022-09-27T08:57:20.333725Z",
     "iopub.status.idle": "2022-09-27T08:57:20.495468Z",
     "shell.execute_reply": "2022-09-27T08:57:20.494325Z",
     "shell.execute_reply.started": "2022-09-27T08:57:20.334478Z"
    },
    "papermill": {
     "duration": 0.006903,
     "end_time": "2022-09-27T09:41:26.175990",
     "exception": false,
     "start_time": "2022-09-27T09:41:26.169087",
     "status": "completed"
    },
    "tags": []
   },
   "source": [
    "plt.clf()\n",
    "acc = history_dict[\"accuracy\"]\n",
    "val_acc = history_dict[\"val_accuracy\"]\n",
    "plt.plot(epochs, acc, \"bo\", label=\"Training acc\")\n",
    "plt.plot(epochs, val_acc, \"b\", label=\"Validation acc\")\n",
    "plt.title(\"Training and validation accuracy\")\n",
    "plt.xlabel(\"Epochs\")\n",
    "plt.ylabel(\"Accuracy\")\n",
    "plt.legend()\n",
    "plt.show()"
   ]
  }
 ],
 "metadata": {
  "kernelspec": {
   "display_name": "Python 3",
   "language": "python",
   "name": "python3"
  },
  "language_info": {
   "codemirror_mode": {
    "name": "ipython",
    "version": 3
   },
   "file_extension": ".py",
   "mimetype": "text/x-python",
   "name": "python",
   "nbconvert_exporter": "python",
   "pygments_lexer": "ipython3",
   "version": "3.7.12"
  },
  "papermill": {
   "default_parameters": {},
   "duration": 12.470289,
   "end_time": "2022-09-27T09:41:26.906197",
   "environment_variables": {},
   "exception": null,
   "input_path": "__notebook__.ipynb",
   "output_path": "__notebook__.ipynb",
   "parameters": {},
   "start_time": "2022-09-27T09:41:14.435908",
   "version": "2.3.4"
  }
 },
 "nbformat": 4,
 "nbformat_minor": 5
}
