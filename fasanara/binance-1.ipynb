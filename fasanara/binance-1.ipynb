{
 "cells": [
  {
   "cell_type": "code",
   "execution_count": 2,
   "metadata": {},
   "outputs": [],
   "source": [
    "import pandas as pd\n",
    "import numpy as np\n",
    "import seaborn as sns\n",
    "import matplotlib.pyplot as plt\n",
    "from datetime import datetime"
   ]
  },
  {
   "cell_type": "code",
   "execution_count": 3,
   "metadata": {},
   "outputs": [],
   "source": [
    "data_folder = \"C:\\\\Users\\\\shyen\\\\fasanara-digital\\\\data\\\\\""
   ]
  },
  {
   "cell_type": "code",
   "execution_count": 4,
   "metadata": {},
   "outputs": [],
   "source": [
    "df1 = pd.read_csv(data_folder + \"binance_book_snapshot_25_2022-09-28_BTCUSDT.csv\")\n",
    "df2 = pd.read_csv(data_folder + \"binance_trades_2022-09-28_BTCUSDT.csv\")"
   ]
  },
  {
   "cell_type": "code",
   "execution_count": 5,
   "metadata": {},
   "outputs": [],
   "source": [
    "df1 = df1.drop(['exchange', 'symbol', 'local_timestamp'], axis=1)\n",
    "df2 = df2.filter(items=('timestamp', 'side', 'price', 'amount'))"
   ]
  },
  {
   "cell_type": "code",
   "execution_count": 6,
   "metadata": {},
   "outputs": [
    {
     "name": "stderr",
     "output_type": "stream",
     "text": [
      "C:\\Users\\shyen\\AppData\\Local\\Temp\\ipykernel_20264\\2313606967.py:4: SettingWithCopyWarning: \n",
      "A value is trying to be set on a copy of a slice from a DataFrame.\n",
      "Try using .loc[row_indexer,col_indexer] = value instead\n",
      "\n",
      "See the caveats in the documentation: https://pandas.pydata.org/pandas-docs/stable/user_guide/indexing.html#returning-a-view-versus-a-copy\n",
      "  df1_1['timestamp_millisec'] = df1_1['timestamp'].apply(lambda x: int(str(x)[:11]+'00'))\n"
     ]
    }
   ],
   "source": [
    "# Contruct target values: transaction return\n",
    "# transaction return = average(all transactions in interval)/mid price - 1\n",
    "df1_1 = df1[['timestamp', 'asks[0].price', 'asks[0].amount', 'bids[0].price', 'bids[0].amount']]\n",
    "df1_1['timestamp_millisec'] = df1_1['timestamp'].apply(lambda x: int(str(x)[:11]+'00'))\n",
    "df1_1 = df1_1.iloc[1:]"
   ]
  },
  {
   "cell_type": "code",
   "execution_count": 7,
   "metadata": {},
   "outputs": [],
   "source": [
    "# complete timestamp by milliseconds\n",
    "s = []\n",
    "for i in range(1664323202800, 1664409599800+100,100):\n",
    "    s.append(i)\n",
    "s = pd.DataFrame(s)\n",
    "df1_2 = s.rename(columns={0:'timestamp_millisec'})\n",
    "df1_2['datetime'] = pd.to_datetime(df1_2['timestamp_millisec'], unit = 'ms')"
   ]
  },
  {
   "cell_type": "code",
   "execution_count": 8,
   "metadata": {},
   "outputs": [],
   "source": [
    "df1_2 = df1_2.merge(df1_1, how='left', on='timestamp_millisec')\n",
    "df1_2.fillna(method='ffill', inplace=True)\n",
    "df1_2.drop('timestamp', axis=1, inplace=True)"
   ]
  },
  {
   "cell_type": "code",
   "execution_count": 9,
   "metadata": {},
   "outputs": [],
   "source": [
    "# save a copy\n",
    "df1_2 = df1_2.rename(columns={'timestamp_millisec':'ms', 'asks[0].price':'best_ask_price', 'asks[0].amount':'best_ask_size', 'bids[0].price':'best_bid_price', 'bids[0].amount':'best_bid_size'})\n",
    "df1_2['midprice'] = (df1_2['best_ask_price']+df1_2['best_bid_price'])/2\n",
    "A = df1_2.copy()"
   ]
  },
  {
   "cell_type": "markdown",
   "metadata": {},
   "source": [
    "## transform df2"
   ]
  },
  {
   "cell_type": "code",
   "execution_count": 10,
   "metadata": {},
   "outputs": [],
   "source": [
    "df2_1 = df2.copy()\n",
    "df2_1['direction'] = df2_1['side'].apply(lambda x: 1 if x == 'buy' else -1)\n",
    "df2_1 = df2_1.drop('side', axis=1)"
   ]
  },
  {
   "cell_type": "code",
   "execution_count": 11,
   "metadata": {},
   "outputs": [],
   "source": [
    "df2_1['ms'] = df2_1.timestamp.apply(lambda x: int(str(x)[:11]+'00'))"
   ]
  },
  {
   "cell_type": "code",
   "execution_count": 12,
   "metadata": {},
   "outputs": [],
   "source": [
    "df2_1['timestamp_sec'] = df2_1.timestamp.apply(lambda x: int(str(x)[:10]))\n",
    "df2_1['datetime'] = pd.to_datetime(df2_1['timestamp_sec'], unit = 's')"
   ]
  },
  {
   "cell_type": "code",
   "execution_count": 13,
   "metadata": {},
   "outputs": [
    {
     "data": {
      "text/html": [
       "<div>\n",
       "<style scoped>\n",
       "    .dataframe tbody tr th:only-of-type {\n",
       "        vertical-align: middle;\n",
       "    }\n",
       "\n",
       "    .dataframe tbody tr th {\n",
       "        vertical-align: top;\n",
       "    }\n",
       "\n",
       "    .dataframe thead th {\n",
       "        text-align: right;\n",
       "    }\n",
       "</style>\n",
       "<table border=\"1\" class=\"dataframe\">\n",
       "  <thead>\n",
       "    <tr style=\"text-align: right;\">\n",
       "      <th></th>\n",
       "      <th>timestamp</th>\n",
       "      <th>price</th>\n",
       "      <th>amount</th>\n",
       "      <th>direction</th>\n",
       "      <th>ms</th>\n",
       "      <th>timestamp_sec</th>\n",
       "      <th>datetime</th>\n",
       "    </tr>\n",
       "  </thead>\n",
       "  <tbody>\n",
       "    <tr>\n",
       "      <th>0</th>\n",
       "      <td>1664323199997000</td>\n",
       "      <td>19078.10</td>\n",
       "      <td>0.00082</td>\n",
       "      <td>-1</td>\n",
       "      <td>1664323199900</td>\n",
       "      <td>1664323199</td>\n",
       "      <td>2022-09-27 23:59:59</td>\n",
       "    </tr>\n",
       "    <tr>\n",
       "      <th>1</th>\n",
       "      <td>1664323199998000</td>\n",
       "      <td>19079.13</td>\n",
       "      <td>0.00309</td>\n",
       "      <td>1</td>\n",
       "      <td>1664323199900</td>\n",
       "      <td>1664323199</td>\n",
       "      <td>2022-09-27 23:59:59</td>\n",
       "    </tr>\n",
       "    <tr>\n",
       "      <th>2</th>\n",
       "      <td>1664323200000000</td>\n",
       "      <td>19078.10</td>\n",
       "      <td>0.00238</td>\n",
       "      <td>-1</td>\n",
       "      <td>1664323200000</td>\n",
       "      <td>1664323200</td>\n",
       "      <td>2022-09-28 00:00:00</td>\n",
       "    </tr>\n",
       "    <tr>\n",
       "      <th>3</th>\n",
       "      <td>1664323200002000</td>\n",
       "      <td>19078.10</td>\n",
       "      <td>0.00084</td>\n",
       "      <td>-1</td>\n",
       "      <td>1664323200000</td>\n",
       "      <td>1664323200</td>\n",
       "      <td>2022-09-28 00:00:00</td>\n",
       "    </tr>\n",
       "    <tr>\n",
       "      <th>4</th>\n",
       "      <td>1664323200003000</td>\n",
       "      <td>19078.10</td>\n",
       "      <td>0.00279</td>\n",
       "      <td>-1</td>\n",
       "      <td>1664323200000</td>\n",
       "      <td>1664323200</td>\n",
       "      <td>2022-09-28 00:00:00</td>\n",
       "    </tr>\n",
       "    <tr>\n",
       "      <th>...</th>\n",
       "      <td>...</td>\n",
       "      <td>...</td>\n",
       "      <td>...</td>\n",
       "      <td>...</td>\n",
       "      <td>...</td>\n",
       "      <td>...</td>\n",
       "      <td>...</td>\n",
       "    </tr>\n",
       "    <tr>\n",
       "      <th>7357207</th>\n",
       "      <td>1664409599992000</td>\n",
       "      <td>19413.32</td>\n",
       "      <td>0.00079</td>\n",
       "      <td>1</td>\n",
       "      <td>1664409599900</td>\n",
       "      <td>1664409599</td>\n",
       "      <td>2022-09-28 23:59:59</td>\n",
       "    </tr>\n",
       "    <tr>\n",
       "      <th>7357208</th>\n",
       "      <td>1664409599992000</td>\n",
       "      <td>19413.32</td>\n",
       "      <td>0.00079</td>\n",
       "      <td>1</td>\n",
       "      <td>1664409599900</td>\n",
       "      <td>1664409599</td>\n",
       "      <td>2022-09-28 23:59:59</td>\n",
       "    </tr>\n",
       "    <tr>\n",
       "      <th>7357209</th>\n",
       "      <td>1664409599992000</td>\n",
       "      <td>19413.33</td>\n",
       "      <td>0.00056</td>\n",
       "      <td>1</td>\n",
       "      <td>1664409599900</td>\n",
       "      <td>1664409599</td>\n",
       "      <td>2022-09-28 23:59:59</td>\n",
       "    </tr>\n",
       "    <tr>\n",
       "      <th>7357210</th>\n",
       "      <td>1664409599993000</td>\n",
       "      <td>19413.33</td>\n",
       "      <td>0.00798</td>\n",
       "      <td>1</td>\n",
       "      <td>1664409599900</td>\n",
       "      <td>1664409599</td>\n",
       "      <td>2022-09-28 23:59:59</td>\n",
       "    </tr>\n",
       "    <tr>\n",
       "      <th>7357211</th>\n",
       "      <td>1664409599993000</td>\n",
       "      <td>19413.33</td>\n",
       "      <td>0.00121</td>\n",
       "      <td>1</td>\n",
       "      <td>1664409599900</td>\n",
       "      <td>1664409599</td>\n",
       "      <td>2022-09-28 23:59:59</td>\n",
       "    </tr>\n",
       "  </tbody>\n",
       "</table>\n",
       "<p>7357212 rows × 7 columns</p>\n",
       "</div>"
      ],
      "text/plain": [
       "                timestamp     price   amount  direction             ms  \\\n",
       "0        1664323199997000  19078.10  0.00082         -1  1664323199900   \n",
       "1        1664323199998000  19079.13  0.00309          1  1664323199900   \n",
       "2        1664323200000000  19078.10  0.00238         -1  1664323200000   \n",
       "3        1664323200002000  19078.10  0.00084         -1  1664323200000   \n",
       "4        1664323200003000  19078.10  0.00279         -1  1664323200000   \n",
       "...                   ...       ...      ...        ...            ...   \n",
       "7357207  1664409599992000  19413.32  0.00079          1  1664409599900   \n",
       "7357208  1664409599992000  19413.32  0.00079          1  1664409599900   \n",
       "7357209  1664409599992000  19413.33  0.00056          1  1664409599900   \n",
       "7357210  1664409599993000  19413.33  0.00798          1  1664409599900   \n",
       "7357211  1664409599993000  19413.33  0.00121          1  1664409599900   \n",
       "\n",
       "         timestamp_sec            datetime  \n",
       "0           1664323199 2022-09-27 23:59:59  \n",
       "1           1664323199 2022-09-27 23:59:59  \n",
       "2           1664323200 2022-09-28 00:00:00  \n",
       "3           1664323200 2022-09-28 00:00:00  \n",
       "4           1664323200 2022-09-28 00:00:00  \n",
       "...                ...                 ...  \n",
       "7357207     1664409599 2022-09-28 23:59:59  \n",
       "7357208     1664409599 2022-09-28 23:59:59  \n",
       "7357209     1664409599 2022-09-28 23:59:59  \n",
       "7357210     1664409599 2022-09-28 23:59:59  \n",
       "7357211     1664409599 2022-09-28 23:59:59  \n",
       "\n",
       "[7357212 rows x 7 columns]"
      ]
     },
     "execution_count": 13,
     "metadata": {},
     "output_type": "execute_result"
    }
   ],
   "source": [
    "df2_1"
   ]
  },
  {
   "cell_type": "code",
   "execution_count": 14,
   "metadata": {},
   "outputs": [],
   "source": [
    "a = df2_1.groupby('datetime')[['price']].sum().reset_index().iloc[1:]"
   ]
  },
  {
   "cell_type": "code",
   "execution_count": 15,
   "metadata": {},
   "outputs": [],
   "source": [
    "# complete timestamp by seconds\n",
    "# two seconds less than df2\n",
    "s = []\n",
    "for i in range(1664323200, 1664409599+1):\n",
    "    s.append(i)\n",
    "s = pd.DataFrame(s)\n",
    "a1 = s.rename(columns={0:'timestamp_sec'})\n",
    "a1['datetime'] = pd.to_datetime(a1['timestamp_sec'], unit = 's')"
   ]
  },
  {
   "cell_type": "code",
   "execution_count": 16,
   "metadata": {},
   "outputs": [],
   "source": [
    "a1 = a1.merge(a, how='left', on='datetime')"
   ]
  },
  {
   "cell_type": "code",
   "execution_count": 17,
   "metadata": {},
   "outputs": [],
   "source": [
    "a1=a1.fillna(0)"
   ]
  },
  {
   "cell_type": "code",
   "execution_count": 18,
   "metadata": {},
   "outputs": [],
   "source": [
    "b = df2_1.groupby('datetime')[['amount']].count().reset_index().iloc[1:]"
   ]
  },
  {
   "cell_type": "code",
   "execution_count": 19,
   "metadata": {},
   "outputs": [],
   "source": [
    "# complete timestamp by seconds\n",
    "# two seconds less than df2\n",
    "s = []\n",
    "for i in range(1664323200, 1664409599+1):\n",
    "    s.append(i)\n",
    "s = pd.DataFrame(s)\n",
    "b1 = s.rename(columns={0:'timestamp_sec'})\n",
    "b1['datetime'] = pd.to_datetime(b1['timestamp_sec'], unit = 's')"
   ]
  },
  {
   "cell_type": "code",
   "execution_count": 20,
   "metadata": {},
   "outputs": [],
   "source": [
    "b1 = b1.merge(b, how='left', on='datetime')"
   ]
  },
  {
   "cell_type": "code",
   "execution_count": 21,
   "metadata": {},
   "outputs": [],
   "source": [
    "s = []\n",
    "for i in range(int(86400/5)):\n",
    "    s += [i]*5"
   ]
  },
  {
   "cell_type": "code",
   "execution_count": 22,
   "metadata": {},
   "outputs": [],
   "source": [
    "a1['count'] = np.array(s)\n",
    "a2 = a1.groupby('count')[['price']].sum().reset_index()"
   ]
  },
  {
   "cell_type": "code",
   "execution_count": 23,
   "metadata": {},
   "outputs": [],
   "source": [
    "s = []\n",
    "for i in range(int(86400/5)):\n",
    "    s += [i]*5\n",
    "b1['count'] = np.array(s)\n",
    "b2 = b1.groupby('count')[['amount']].sum().reset_index()"
   ]
  },
  {
   "cell_type": "code",
   "execution_count": 24,
   "metadata": {},
   "outputs": [
    {
     "data": {
      "text/plain": [
       "[<matplotlib.lines.Line2D at 0x2d979614310>]"
      ]
     },
     "execution_count": 24,
     "metadata": {},
     "output_type": "execute_result"
    },
    {
     "data": {
      "image/png": "[encoded data removed]",
      "text/plain": [
       "<Figure size 640x480 with 1 Axes>"
      ]
     },
     "metadata": {},
     "output_type": "display_data"
    }
   ],
   "source": [
    "plt.plot(a2['price']/b2['amount'])"
   ]
  },
  {
   "cell_type": "code",
   "execution_count": 25,
   "metadata": {},
   "outputs": [],
   "source": [
    "# complete timestamp by milliseconds\n",
    "s = []\n",
    "for i in range(1664323202800, 1664409599800+100,100):\n",
    "    s.append(i)\n",
    "s = pd.DataFrame(s)\n",
    "df2_2 = s.rename(columns={0:'ms'})\n",
    "df2_2['datetime'] = pd.to_datetime(df2_2['ms'], unit = 'ms')"
   ]
  },
  {
   "cell_type": "code",
   "execution_count": 26,
   "metadata": {},
   "outputs": [],
   "source": [
    "# complete timestamp by seconds\n",
    "# two seconds less than df2\n",
    "s = []\n",
    "for i in range(1664323200, 1664409599+1, 5):\n",
    "    s.append(i)\n",
    "s = pd.DataFrame(s)\n",
    "df2_3 = s.rename(columns={0:'timestamp_sec'})\n",
    "df2_3['datetime'] = pd.to_datetime(df2_3['timestamp_sec'], unit = 's')"
   ]
  },
  {
   "cell_type": "code",
   "execution_count": 27,
   "metadata": {},
   "outputs": [],
   "source": [
    "df2_3['avgPx'] = a2['price']/b2['amount']"
   ]
  },
  {
   "cell_type": "code",
   "execution_count": 28,
   "metadata": {},
   "outputs": [
    {
     "data": {
      "text/html": [
       "<div>\n",
       "<style scoped>\n",
       "    .dataframe tbody tr th:only-of-type {\n",
       "        vertical-align: middle;\n",
       "    }\n",
       "\n",
       "    .dataframe tbody tr th {\n",
       "        vertical-align: top;\n",
       "    }\n",
       "\n",
       "    .dataframe thead th {\n",
       "        text-align: right;\n",
       "    }\n",
       "</style>\n",
       "<table border=\"1\" class=\"dataframe\">\n",
       "  <thead>\n",
       "    <tr style=\"text-align: right;\">\n",
       "      <th></th>\n",
       "      <th>timestamp_sec</th>\n",
       "      <th>datetime</th>\n",
       "      <th>avgPx</th>\n",
       "    </tr>\n",
       "  </thead>\n",
       "  <tbody>\n",
       "    <tr>\n",
       "      <th>0</th>\n",
       "      <td>1664323200</td>\n",
       "      <td>2022-09-28 00:00:00</td>\n",
       "      <td>19084.114882</td>\n",
       "    </tr>\n",
       "    <tr>\n",
       "      <th>1</th>\n",
       "      <td>1664323205</td>\n",
       "      <td>2022-09-28 00:00:05</td>\n",
       "      <td>19086.692271</td>\n",
       "    </tr>\n",
       "    <tr>\n",
       "      <th>2</th>\n",
       "      <td>1664323210</td>\n",
       "      <td>2022-09-28 00:00:10</td>\n",
       "      <td>19086.020717</td>\n",
       "    </tr>\n",
       "    <tr>\n",
       "      <th>3</th>\n",
       "      <td>1664323215</td>\n",
       "      <td>2022-09-28 00:00:15</td>\n",
       "      <td>19082.571387</td>\n",
       "    </tr>\n",
       "    <tr>\n",
       "      <th>4</th>\n",
       "      <td>1664323220</td>\n",
       "      <td>2022-09-28 00:00:20</td>\n",
       "      <td>19082.299873</td>\n",
       "    </tr>\n",
       "    <tr>\n",
       "      <th>...</th>\n",
       "      <td>...</td>\n",
       "      <td>...</td>\n",
       "      <td>...</td>\n",
       "    </tr>\n",
       "    <tr>\n",
       "      <th>17275</th>\n",
       "      <td>1664409575</td>\n",
       "      <td>2022-09-28 23:59:35</td>\n",
       "      <td>19412.918621</td>\n",
       "    </tr>\n",
       "    <tr>\n",
       "      <th>17276</th>\n",
       "      <td>1664409580</td>\n",
       "      <td>2022-09-28 23:59:40</td>\n",
       "      <td>19414.755208</td>\n",
       "    </tr>\n",
       "    <tr>\n",
       "      <th>17277</th>\n",
       "      <td>1664409585</td>\n",
       "      <td>2022-09-28 23:59:45</td>\n",
       "      <td>19414.333396</td>\n",
       "    </tr>\n",
       "    <tr>\n",
       "      <th>17278</th>\n",
       "      <td>1664409590</td>\n",
       "      <td>2022-09-28 23:59:50</td>\n",
       "      <td>19414.507910</td>\n",
       "    </tr>\n",
       "    <tr>\n",
       "      <th>17279</th>\n",
       "      <td>1664409595</td>\n",
       "      <td>2022-09-28 23:59:55</td>\n",
       "      <td>19413.655333</td>\n",
       "    </tr>\n",
       "  </tbody>\n",
       "</table>\n",
       "<p>17280 rows × 3 columns</p>\n",
       "</div>"
      ],
      "text/plain": [
       "       timestamp_sec            datetime         avgPx\n",
       "0         1664323200 2022-09-28 00:00:00  19084.114882\n",
       "1         1664323205 2022-09-28 00:00:05  19086.692271\n",
       "2         1664323210 2022-09-28 00:00:10  19086.020717\n",
       "3         1664323215 2022-09-28 00:00:15  19082.571387\n",
       "4         1664323220 2022-09-28 00:00:20  19082.299873\n",
       "...              ...                 ...           ...\n",
       "17275     1664409575 2022-09-28 23:59:35  19412.918621\n",
       "17276     1664409580 2022-09-28 23:59:40  19414.755208\n",
       "17277     1664409585 2022-09-28 23:59:45  19414.333396\n",
       "17278     1664409590 2022-09-28 23:59:50  19414.507910\n",
       "17279     1664409595 2022-09-28 23:59:55  19413.655333\n",
       "\n",
       "[17280 rows x 3 columns]"
      ]
     },
     "execution_count": 28,
     "metadata": {},
     "output_type": "execute_result"
    }
   ],
   "source": [
    "df2_3"
   ]
  },
  {
   "cell_type": "markdown",
   "metadata": {},
   "source": [
    "## Target values"
   ]
  },
  {
   "cell_type": "code",
   "execution_count": 29,
   "metadata": {},
   "outputs": [],
   "source": [
    "B = df2_3.copy()"
   ]
  },
  {
   "cell_type": "code",
   "execution_count": 30,
   "metadata": {},
   "outputs": [],
   "source": [
    "#df1_2['timestamp_sec'] = df1_2.ms.apply(lambda x: int(str(x)[:10]))"
   ]
  },
  {
   "cell_type": "code",
   "execution_count": 31,
   "metadata": {},
   "outputs": [],
   "source": [
    "df1_3 = df1_2.filter(items=('datetime', 'midprice'))"
   ]
  },
  {
   "cell_type": "code",
   "execution_count": 32,
   "metadata": {},
   "outputs": [],
   "source": [
    "## use as_of merge\n",
    "target = pd.merge_asof(df2_3, df1_3, on='datetime')\n",
    "target['ret'] = target['avgPx']/target['midprice'] - 1\n",
    "target = target.dropna()"
   ]
  },
  {
   "cell_type": "code",
   "execution_count": 33,
   "metadata": {},
   "outputs": [
    {
     "data": {
      "text/plain": [
       "Text(0.5, 1.0, 'Transaction return with 5-seconds time horizon')"
      ]
     },
     "execution_count": 33,
     "metadata": {},
     "output_type": "execute_result"
    },
    {
     "data": {
      "image/png": "[encoded data removed]",
      "text/plain": [
       "<Figure size 1600x600 with 1 Axes>"
      ]
     },
     "metadata": {},
     "output_type": "display_data"
    }
   ],
   "source": [
    "plt.figure(figsize=(16,6))\n",
    "plt.plot(target['datetime'], target['ret'], linewidth=0.3)\n",
    "plt.axhline(y=0, c='black')\n",
    "plt.title('Transaction return with 5-seconds time horizon')"
   ]
  },
  {
   "cell_type": "code",
   "execution_count": 34,
   "metadata": {},
   "outputs": [],
   "source": [
    "target = target.rename(columns={'datetime':'T'})"
   ]
  },
  {
   "cell_type": "code",
   "execution_count": 35,
   "metadata": {},
   "outputs": [
    {
     "data": {
      "text/html": [
       "<div>\n",
       "<style scoped>\n",
       "    .dataframe tbody tr th:only-of-type {\n",
       "        vertical-align: middle;\n",
       "    }\n",
       "\n",
       "    .dataframe tbody tr th {\n",
       "        vertical-align: top;\n",
       "    }\n",
       "\n",
       "    .dataframe thead th {\n",
       "        text-align: right;\n",
       "    }\n",
       "</style>\n",
       "<table border=\"1\" class=\"dataframe\">\n",
       "  <thead>\n",
       "    <tr style=\"text-align: right;\">\n",
       "      <th></th>\n",
       "      <th>timestamp_sec</th>\n",
       "      <th>T</th>\n",
       "      <th>avgPx</th>\n",
       "      <th>midprice</th>\n",
       "      <th>ret</th>\n",
       "    </tr>\n",
       "  </thead>\n",
       "  <tbody>\n",
       "    <tr>\n",
       "      <th>1</th>\n",
       "      <td>1664323205</td>\n",
       "      <td>2022-09-28 00:00:05</td>\n",
       "      <td>19086.692271</td>\n",
       "      <td>19085.655</td>\n",
       "      <td>0.000054</td>\n",
       "    </tr>\n",
       "    <tr>\n",
       "      <th>2</th>\n",
       "      <td>1664323210</td>\n",
       "      <td>2022-09-28 00:00:10</td>\n",
       "      <td>19086.020717</td>\n",
       "      <td>19087.070</td>\n",
       "      <td>-0.000055</td>\n",
       "    </tr>\n",
       "    <tr>\n",
       "      <th>3</th>\n",
       "      <td>1664323215</td>\n",
       "      <td>2022-09-28 00:00:15</td>\n",
       "      <td>19082.571387</td>\n",
       "      <td>19085.225</td>\n",
       "      <td>-0.000139</td>\n",
       "    </tr>\n",
       "    <tr>\n",
       "      <th>4</th>\n",
       "      <td>1664323220</td>\n",
       "      <td>2022-09-28 00:00:20</td>\n",
       "      <td>19082.299873</td>\n",
       "      <td>19081.430</td>\n",
       "      <td>0.000046</td>\n",
       "    </tr>\n",
       "    <tr>\n",
       "      <th>5</th>\n",
       "      <td>1664323225</td>\n",
       "      <td>2022-09-28 00:00:25</td>\n",
       "      <td>19079.246744</td>\n",
       "      <td>19080.800</td>\n",
       "      <td>-0.000081</td>\n",
       "    </tr>\n",
       "  </tbody>\n",
       "</table>\n",
       "</div>"
      ],
      "text/plain": [
       "   timestamp_sec                   T         avgPx   midprice       ret\n",
       "1     1664323205 2022-09-28 00:00:05  19086.692271  19085.655  0.000054\n",
       "2     1664323210 2022-09-28 00:00:10  19086.020717  19087.070 -0.000055\n",
       "3     1664323215 2022-09-28 00:00:15  19082.571387  19085.225 -0.000139\n",
       "4     1664323220 2022-09-28 00:00:20  19082.299873  19081.430  0.000046\n",
       "5     1664323225 2022-09-28 00:00:25  19079.246744  19080.800 -0.000081"
      ]
     },
     "execution_count": 35,
     "metadata": {},
     "output_type": "execute_result"
    }
   ],
   "source": [
    "target.head(5)"
   ]
  },
  {
   "cell_type": "code",
   "execution_count": 36,
   "metadata": {},
   "outputs": [
    {
     "data": {
      "text/html": [
       "<div>\n",
       "<style scoped>\n",
       "    .dataframe tbody tr th:only-of-type {\n",
       "        vertical-align: middle;\n",
       "    }\n",
       "\n",
       "    .dataframe tbody tr th {\n",
       "        vertical-align: top;\n",
       "    }\n",
       "\n",
       "    .dataframe thead th {\n",
       "        text-align: right;\n",
       "    }\n",
       "</style>\n",
       "<table border=\"1\" class=\"dataframe\">\n",
       "  <thead>\n",
       "    <tr style=\"text-align: right;\">\n",
       "      <th></th>\n",
       "      <th>timestamp_sec</th>\n",
       "      <th>T</th>\n",
       "      <th>avgPx</th>\n",
       "      <th>midprice</th>\n",
       "      <th>ret</th>\n",
       "    </tr>\n",
       "  </thead>\n",
       "  <tbody>\n",
       "    <tr>\n",
       "      <th>1</th>\n",
       "      <td>1664323205</td>\n",
       "      <td>2022-09-28 00:00:05</td>\n",
       "      <td>19086.692271</td>\n",
       "      <td>19085.655</td>\n",
       "      <td>0.000054</td>\n",
       "    </tr>\n",
       "    <tr>\n",
       "      <th>2</th>\n",
       "      <td>1664323210</td>\n",
       "      <td>2022-09-28 00:00:10</td>\n",
       "      <td>19086.020717</td>\n",
       "      <td>19087.070</td>\n",
       "      <td>-0.000055</td>\n",
       "    </tr>\n",
       "    <tr>\n",
       "      <th>3</th>\n",
       "      <td>1664323215</td>\n",
       "      <td>2022-09-28 00:00:15</td>\n",
       "      <td>19082.571387</td>\n",
       "      <td>19085.225</td>\n",
       "      <td>-0.000139</td>\n",
       "    </tr>\n",
       "    <tr>\n",
       "      <th>4</th>\n",
       "      <td>1664323220</td>\n",
       "      <td>2022-09-28 00:00:20</td>\n",
       "      <td>19082.299873</td>\n",
       "      <td>19081.430</td>\n",
       "      <td>0.000046</td>\n",
       "    </tr>\n",
       "    <tr>\n",
       "      <th>5</th>\n",
       "      <td>1664323225</td>\n",
       "      <td>2022-09-28 00:00:25</td>\n",
       "      <td>19079.246744</td>\n",
       "      <td>19080.800</td>\n",
       "      <td>-0.000081</td>\n",
       "    </tr>\n",
       "    <tr>\n",
       "      <th>...</th>\n",
       "      <td>...</td>\n",
       "      <td>...</td>\n",
       "      <td>...</td>\n",
       "      <td>...</td>\n",
       "      <td>...</td>\n",
       "    </tr>\n",
       "    <tr>\n",
       "      <th>17275</th>\n",
       "      <td>1664409575</td>\n",
       "      <td>2022-09-28 23:59:35</td>\n",
       "      <td>19412.918621</td>\n",
       "      <td>19413.565</td>\n",
       "      <td>-0.000033</td>\n",
       "    </tr>\n",
       "    <tr>\n",
       "      <th>17276</th>\n",
       "      <td>1664409580</td>\n",
       "      <td>2022-09-28 23:59:40</td>\n",
       "      <td>19414.755208</td>\n",
       "      <td>19412.760</td>\n",
       "      <td>0.000103</td>\n",
       "    </tr>\n",
       "    <tr>\n",
       "      <th>17277</th>\n",
       "      <td>1664409585</td>\n",
       "      <td>2022-09-28 23:59:45</td>\n",
       "      <td>19414.333396</td>\n",
       "      <td>19414.950</td>\n",
       "      <td>-0.000032</td>\n",
       "    </tr>\n",
       "    <tr>\n",
       "      <th>17278</th>\n",
       "      <td>1664409590</td>\n",
       "      <td>2022-09-28 23:59:50</td>\n",
       "      <td>19414.507910</td>\n",
       "      <td>19414.400</td>\n",
       "      <td>0.000006</td>\n",
       "    </tr>\n",
       "    <tr>\n",
       "      <th>17279</th>\n",
       "      <td>1664409595</td>\n",
       "      <td>2022-09-28 23:59:55</td>\n",
       "      <td>19413.655333</td>\n",
       "      <td>19414.450</td>\n",
       "      <td>-0.000041</td>\n",
       "    </tr>\n",
       "  </tbody>\n",
       "</table>\n",
       "<p>17279 rows × 5 columns</p>\n",
       "</div>"
      ],
      "text/plain": [
       "       timestamp_sec                   T         avgPx   midprice       ret\n",
       "1         1664323205 2022-09-28 00:00:05  19086.692271  19085.655  0.000054\n",
       "2         1664323210 2022-09-28 00:00:10  19086.020717  19087.070 -0.000055\n",
       "3         1664323215 2022-09-28 00:00:15  19082.571387  19085.225 -0.000139\n",
       "4         1664323220 2022-09-28 00:00:20  19082.299873  19081.430  0.000046\n",
       "5         1664323225 2022-09-28 00:00:25  19079.246744  19080.800 -0.000081\n",
       "...              ...                 ...           ...        ...       ...\n",
       "17275     1664409575 2022-09-28 23:59:35  19412.918621  19413.565 -0.000033\n",
       "17276     1664409580 2022-09-28 23:59:40  19414.755208  19412.760  0.000103\n",
       "17277     1664409585 2022-09-28 23:59:45  19414.333396  19414.950 -0.000032\n",
       "17278     1664409590 2022-09-28 23:59:50  19414.507910  19414.400  0.000006\n",
       "17279     1664409595 2022-09-28 23:59:55  19413.655333  19414.450 -0.000041\n",
       "\n",
       "[17279 rows x 5 columns]"
      ]
     },
     "execution_count": 36,
     "metadata": {},
     "output_type": "execute_result"
    }
   ],
   "source": [
    "target"
   ]
  },
  {
   "cell_type": "markdown",
   "metadata": {},
   "source": [
    "# Insert datetime_ms column and define df2_4"
   ]
  },
  {
   "cell_type": "code",
   "execution_count": 37,
   "metadata": {},
   "outputs": [],
   "source": [
    "df2_1['ms2'] = df2_1.timestamp.apply(lambda x: int(str(x)[:13]))\n",
    "df2_1['datetime_ms'] = pd.to_datetime(df2_1['ms2'], unit = 'ms')\n",
    "df2_4 = df2_1.filter(items=('ms2', 'datetime_ms', 'price', 'amount', 'direction'))"
   ]
  },
  {
   "cell_type": "markdown",
   "metadata": {},
   "source": [
    "## Construct Transaction Imbalance"
   ]
  },
  {
   "cell_type": "code",
   "execution_count": 38,
   "metadata": {},
   "outputs": [],
   "source": [
    "lag = \"100ms\""
   ]
  },
  {
   "cell_type": "code",
   "execution_count": 39,
   "metadata": {},
   "outputs": [],
   "source": [
    "df2_4 = df2_1.filter(items=('ms2', 'datetime_ms', 'price', 'amount', 'direction'))\n",
    "df2_4['signed_volume'] = df2_4.amount * df2_4.direction\n",
    "df2_4 = df2_4.set_index('datetime_ms')\n",
    "# resampling\n",
    "d3 = df2_4[['signed_volume', 'amount']].resample(lag).sum().reset_index()\n",
    "d3['T'] = d3['datetime_ms'].shift(-1)\n",
    "d3 = d3.rename(columns={'amount':'total_volume_from_lag_1', 'datetime_ms':'T-0.1'})\n",
    "d3 = d3.dropna()"
   ]
  },
  {
   "cell_type": "code",
   "execution_count": 40,
   "metadata": {},
   "outputs": [],
   "source": [
    "temp = pd.merge_asof(target, d3, on='T')\n",
    "temp['txn_imbalance_lag_0.1'] = temp['signed_volume']/temp['total_volume_from_lag_1']\n",
    "temp = temp.fillna(0)\n",
    "transaction_imbalance = temp[['T', 'T-0.1', 'txn_imbalance_lag_0.1']]"
   ]
  },
  {
   "cell_type": "code",
   "execution_count": 41,
   "metadata": {},
   "outputs": [
    {
     "data": {
      "text/plain": [
       "Text(0.5, 1.0, 'Transcation Imbalance with lag 100ms')"
      ]
     },
     "execution_count": 41,
     "metadata": {},
     "output_type": "execute_result"
    },
    {
     "data": {
      "image/png": "[encoded data removed]",
      "text/plain": [
       "<Figure size 640x480 with 1 Axes>"
      ]
     },
     "metadata": {},
     "output_type": "display_data"
    }
   ],
   "source": [
    "sns.histplot(transaction_imbalance['txn_imbalance_lag_0.1'])\n",
    "plt.title(\"Transcation Imbalance with lag \" + lag)"
   ]
  },
  {
   "cell_type": "markdown",
   "metadata": {},
   "source": [
    "# Construct Past Return"
   ]
  },
  {
   "cell_type": "code",
   "execution_count": 42,
   "metadata": {},
   "outputs": [],
   "source": [
    "lag = \"500ms\""
   ]
  },
  {
   "cell_type": "code",
   "execution_count": 43,
   "metadata": {},
   "outputs": [],
   "source": [
    "d4 = df2_4[['price']].resample(lag).mean().reset_index()\n",
    "d4['T'] = d4['datetime_ms'].shift(-1)\n",
    "d4 = d4.rename(columns={'price':'avgPx_lag_0.1', 'datetime_ms':'T-0.1'})\n",
    "d4_1 = df2_4[['price']].resample(lag).last().reset_index()\n",
    "d4_1 = d4_1.rename(columns={'price':'lastPx_lag_0.1', 'datetime_ms':'T-0.1'})\n",
    "temp = d4.merge(d4_1, how='left', on='T-0.1')\n",
    "temp = temp.dropna(subset=['T'])"
   ]
  },
  {
   "cell_type": "code",
   "execution_count": 44,
   "metadata": {},
   "outputs": [],
   "source": [
    "# merge with target table\n",
    "past_ret = pd.merge_asof(target, temp, on='T')\n",
    "past_ret['past_ret'] = 1- past_ret['avgPx_lag_0.1']/past_ret['lastPx_lag_0.1']\n",
    "past_ret = past_ret.fillna(0)"
   ]
  },
  {
   "cell_type": "code",
   "execution_count": 45,
   "metadata": {},
   "outputs": [
    {
     "data": {
      "text/plain": [
       "Text(0.5, 1.0, 'Histogram of past return with lag 500ms')"
      ]
     },
     "execution_count": 45,
     "metadata": {},
     "output_type": "execute_result"
    },
    {
     "data": {
      "image/png": "[encoded data removed]",
      "text/plain": [
       "<Figure size 640x480 with 1 Axes>"
      ]
     },
     "metadata": {},
     "output_type": "display_data"
    }
   ],
   "source": [
    "sns.histplot(past_ret.past_ret)\n",
    "plt.title('Histogram of past return with lag ' + lag)"
   ]
  },
  {
   "cell_type": "markdown",
   "metadata": {},
   "source": [
    "## Construct LOB Imbalance"
   ]
  },
  {
   "cell_type": "code",
   "execution_count": 46,
   "metadata": {},
   "outputs": [],
   "source": [
    "df1_4 = df1[['timestamp', 'asks[0].price', 'asks[0].amount', 'bids[0].price', 'bids[0].amount']]\n",
    "df1_4 = df1_4.rename(columns={'asks[0].price':'best_ask_price', 'asks[0].amount':'best_ask_size', 'bids[0].price':'best_bid_price', 'bids[0].amount':'best_bid_size'})\n",
    "# construct feature: depth imbalance\n",
    "df1_4['depth_imb'] = (df1_4['best_ask_size'] - df1_4['best_bid_size'])/(df1_4['best_ask_size'] + df1_4['best_bid_size'])"
   ]
  },
  {
   "cell_type": "code",
   "execution_count": 47,
   "metadata": {},
   "outputs": [],
   "source": [
    "df1_4['ms'] = df1_4.timestamp.apply(lambda x: int(str(x)[:13]))\n",
    "df1_4['datetime_ms'] = pd.to_datetime(df1_4['ms'], unit = 'ms')\n",
    "# set index for resampling\n",
    "df1_4 = df1_4.set_index('datetime_ms')"
   ]
  },
  {
   "cell_type": "code",
   "execution_count": 48,
   "metadata": {},
   "outputs": [],
   "source": [
    "lag = \"100ms\""
   ]
  },
  {
   "cell_type": "code",
   "execution_count": 49,
   "metadata": {},
   "outputs": [],
   "source": [
    "# resampling and shift by one below\n",
    "# use most recent price and size\n",
    "# depth_imbalance = df1_4[['best_ask_price', 'best_ask_size', 'best_bid_price', 'best_bid_size', 'depth_imb']].resample(lag).last().shift(1)\n",
    "depth_imbalance = df1_4[['depth_imb']].resample(lag).mean().shift(1)\n",
    "depth_imbalance = depth_imbalance.fillna(method='ffill').dropna().reset_index()"
   ]
  },
  {
   "cell_type": "code",
   "execution_count": 50,
   "metadata": {},
   "outputs": [
    {
     "data": {
      "text/plain": [
       "Text(0.5, 1.0, 'Limit Order Book Imbalance with lag 100ms')"
      ]
     },
     "execution_count": 50,
     "metadata": {},
     "output_type": "execute_result"
    },
    {
     "data": {
      "image/png": "[encoded data removed]",
      "text/plain": [
       "<Figure size 640x480 with 1 Axes>"
      ]
     },
     "metadata": {},
     "output_type": "display_data"
    }
   ],
   "source": [
    "sns.histplot(depth_imbalance.depth_imb)\n",
    "plt.title(\"Limit Order Book Imbalance with lag \" + lag)"
   ]
  },
  {
   "cell_type": "code",
   "execution_count": 51,
   "metadata": {},
   "outputs": [],
   "source": [
    "depth_imbalance = depth_imbalance.rename(columns={'datetime_ms':'T'})\n",
    "depth_imbalance_1 = pd.merge_asof(target, depth_imbalance, on='T')"
   ]
  },
  {
   "cell_type": "markdown",
   "metadata": {},
   "source": [
    "## Construct Lambda: transaction price change in the interval relative to total volume"
   ]
  },
  {
   "cell_type": "code",
   "execution_count": 52,
   "metadata": {},
   "outputs": [],
   "source": [
    "lag = \"500ms\""
   ]
  },
  {
   "cell_type": "code",
   "execution_count": 53,
   "metadata": {},
   "outputs": [],
   "source": [
    "l1 = df2_4[['price']].resample(lag).last().reset_index()\n",
    "l1['T'] = l1['datetime_ms'].shift(-1)\n",
    "l1 = l1.rename(columns={'price':'lastPx'})\n",
    "l2 = df2_4[['price']].resample(lag).first().reset_index()\n",
    "l2 = l2.rename(columns={'price':'firstPx'})\n",
    "l3 = df2_4[['amount']].resample(lag).sum().reset_index()\n",
    "l3 = l3.rename(columns={'amount':'totVol'})"
   ]
  },
  {
   "cell_type": "code",
   "execution_count": 54,
   "metadata": {},
   "outputs": [],
   "source": [
    "l4 = l1.merge(l2, how='left', on='datetime_ms')\n",
    "l4 = l4.merge(l3, how='left', on='datetime_ms')"
   ]
  },
  {
   "cell_type": "code",
   "execution_count": 55,
   "metadata": {},
   "outputs": [],
   "source": [
    "l4['Lambda'] = (l4['lastPx']-l4['firstPx'])/l4['totVol']\n",
    "l4 = l4.dropna(subset=['T'])\n",
    "l4 = l4.fillna(0)\n",
    "l4 = l4.filter(items=('T', 'Lambda'))"
   ]
  },
  {
   "cell_type": "code",
   "execution_count": 56,
   "metadata": {},
   "outputs": [
    {
     "data": {
      "text/html": [
       "<div>\n",
       "<style scoped>\n",
       "    .dataframe tbody tr th:only-of-type {\n",
       "        vertical-align: middle;\n",
       "    }\n",
       "\n",
       "    .dataframe tbody tr th {\n",
       "        vertical-align: top;\n",
       "    }\n",
       "\n",
       "    .dataframe thead th {\n",
       "        text-align: right;\n",
       "    }\n",
       "</style>\n",
       "<table border=\"1\" class=\"dataframe\">\n",
       "  <thead>\n",
       "    <tr style=\"text-align: right;\">\n",
       "      <th></th>\n",
       "      <th>timestamp_sec</th>\n",
       "      <th>T</th>\n",
       "      <th>avgPx</th>\n",
       "      <th>midprice</th>\n",
       "      <th>ret</th>\n",
       "      <th>Lambda</th>\n",
       "    </tr>\n",
       "  </thead>\n",
       "  <tbody>\n",
       "    <tr>\n",
       "      <th>0</th>\n",
       "      <td>1664323205</td>\n",
       "      <td>2022-09-28 00:00:05</td>\n",
       "      <td>19086.692271</td>\n",
       "      <td>19085.655</td>\n",
       "      <td>0.000054</td>\n",
       "      <td>-0.091944</td>\n",
       "    </tr>\n",
       "    <tr>\n",
       "      <th>1</th>\n",
       "      <td>1664323210</td>\n",
       "      <td>2022-09-28 00:00:10</td>\n",
       "      <td>19086.020717</td>\n",
       "      <td>19087.070</td>\n",
       "      <td>-0.000055</td>\n",
       "      <td>-0.071168</td>\n",
       "    </tr>\n",
       "    <tr>\n",
       "      <th>2</th>\n",
       "      <td>1664323215</td>\n",
       "      <td>2022-09-28 00:00:15</td>\n",
       "      <td>19082.571387</td>\n",
       "      <td>19085.225</td>\n",
       "      <td>-0.000139</td>\n",
       "      <td>-0.752651</td>\n",
       "    </tr>\n",
       "    <tr>\n",
       "      <th>3</th>\n",
       "      <td>1664323220</td>\n",
       "      <td>2022-09-28 00:00:20</td>\n",
       "      <td>19082.299873</td>\n",
       "      <td>19081.430</td>\n",
       "      <td>0.000046</td>\n",
       "      <td>0.479204</td>\n",
       "    </tr>\n",
       "    <tr>\n",
       "      <th>4</th>\n",
       "      <td>1664323225</td>\n",
       "      <td>2022-09-28 00:00:25</td>\n",
       "      <td>19079.246744</td>\n",
       "      <td>19080.800</td>\n",
       "      <td>-0.000081</td>\n",
       "      <td>-0.117469</td>\n",
       "    </tr>\n",
       "    <tr>\n",
       "      <th>...</th>\n",
       "      <td>...</td>\n",
       "      <td>...</td>\n",
       "      <td>...</td>\n",
       "      <td>...</td>\n",
       "      <td>...</td>\n",
       "      <td>...</td>\n",
       "    </tr>\n",
       "    <tr>\n",
       "      <th>17274</th>\n",
       "      <td>1664409575</td>\n",
       "      <td>2022-09-28 23:59:35</td>\n",
       "      <td>19412.918621</td>\n",
       "      <td>19413.565</td>\n",
       "      <td>-0.000033</td>\n",
       "      <td>0.000000</td>\n",
       "    </tr>\n",
       "    <tr>\n",
       "      <th>17275</th>\n",
       "      <td>1664409580</td>\n",
       "      <td>2022-09-28 23:59:40</td>\n",
       "      <td>19414.755208</td>\n",
       "      <td>19412.760</td>\n",
       "      <td>0.000103</td>\n",
       "      <td>0.262502</td>\n",
       "    </tr>\n",
       "    <tr>\n",
       "      <th>17276</th>\n",
       "      <td>1664409585</td>\n",
       "      <td>2022-09-28 23:59:45</td>\n",
       "      <td>19414.333396</td>\n",
       "      <td>19414.950</td>\n",
       "      <td>-0.000032</td>\n",
       "      <td>-14.397906</td>\n",
       "    </tr>\n",
       "    <tr>\n",
       "      <th>17277</th>\n",
       "      <td>1664409590</td>\n",
       "      <td>2022-09-28 23:59:50</td>\n",
       "      <td>19414.507910</td>\n",
       "      <td>19414.400</td>\n",
       "      <td>0.000006</td>\n",
       "      <td>0.470358</td>\n",
       "    </tr>\n",
       "    <tr>\n",
       "      <th>17278</th>\n",
       "      <td>1664409595</td>\n",
       "      <td>2022-09-28 23:59:55</td>\n",
       "      <td>19413.655333</td>\n",
       "      <td>19414.450</td>\n",
       "      <td>-0.000041</td>\n",
       "      <td>0.276849</td>\n",
       "    </tr>\n",
       "  </tbody>\n",
       "</table>\n",
       "<p>17279 rows × 6 columns</p>\n",
       "</div>"
      ],
      "text/plain": [
       "       timestamp_sec                   T         avgPx   midprice       ret  \\\n",
       "0         1664323205 2022-09-28 00:00:05  19086.692271  19085.655  0.000054   \n",
       "1         1664323210 2022-09-28 00:00:10  19086.020717  19087.070 -0.000055   \n",
       "2         1664323215 2022-09-28 00:00:15  19082.571387  19085.225 -0.000139   \n",
       "3         1664323220 2022-09-28 00:00:20  19082.299873  19081.430  0.000046   \n",
       "4         1664323225 2022-09-28 00:00:25  19079.246744  19080.800 -0.000081   \n",
       "...              ...                 ...           ...        ...       ...   \n",
       "17274     1664409575 2022-09-28 23:59:35  19412.918621  19413.565 -0.000033   \n",
       "17275     1664409580 2022-09-28 23:59:40  19414.755208  19412.760  0.000103   \n",
       "17276     1664409585 2022-09-28 23:59:45  19414.333396  19414.950 -0.000032   \n",
       "17277     1664409590 2022-09-28 23:59:50  19414.507910  19414.400  0.000006   \n",
       "17278     1664409595 2022-09-28 23:59:55  19413.655333  19414.450 -0.000041   \n",
       "\n",
       "          Lambda  \n",
       "0      -0.091944  \n",
       "1      -0.071168  \n",
       "2      -0.752651  \n",
       "3       0.479204  \n",
       "4      -0.117469  \n",
       "...          ...  \n",
       "17274   0.000000  \n",
       "17275   0.262502  \n",
       "17276 -14.397906  \n",
       "17277   0.470358  \n",
       "17278   0.276849  \n",
       "\n",
       "[17279 rows x 6 columns]"
      ]
     },
     "execution_count": 56,
     "metadata": {},
     "output_type": "execute_result"
    }
   ],
   "source": [
    "px_change_rel_vol = pd.merge_asof(target, l4, on='T')\n",
    "px_change_rel_vol"
   ]
  },
  {
   "cell_type": "code",
   "execution_count": 57,
   "metadata": {},
   "outputs": [
    {
     "data": {
      "text/html": [
       "<div>\n",
       "<style scoped>\n",
       "    .dataframe tbody tr th:only-of-type {\n",
       "        vertical-align: middle;\n",
       "    }\n",
       "\n",
       "    .dataframe tbody tr th {\n",
       "        vertical-align: top;\n",
       "    }\n",
       "\n",
       "    .dataframe thead th {\n",
       "        text-align: right;\n",
       "    }\n",
       "</style>\n",
       "<table border=\"1\" class=\"dataframe\">\n",
       "  <thead>\n",
       "    <tr style=\"text-align: right;\">\n",
       "      <th></th>\n",
       "      <th>timestamp_sec</th>\n",
       "      <th>avgPx</th>\n",
       "      <th>midprice</th>\n",
       "      <th>ret</th>\n",
       "      <th>Lambda</th>\n",
       "    </tr>\n",
       "  </thead>\n",
       "  <tbody>\n",
       "    <tr>\n",
       "      <th>count</th>\n",
       "      <td>1.727900e+04</td>\n",
       "      <td>17279.000000</td>\n",
       "      <td>17279.000000</td>\n",
       "      <td>17279.000000</td>\n",
       "      <td>17279.000000</td>\n",
       "    </tr>\n",
       "    <tr>\n",
       "      <th>mean</th>\n",
       "      <td>1.664366e+09</td>\n",
       "      <td>19122.641771</td>\n",
       "      <td>19122.596847</td>\n",
       "      <td>0.000002</td>\n",
       "      <td>0.181315</td>\n",
       "    </tr>\n",
       "    <tr>\n",
       "      <th>std</th>\n",
       "      <td>2.494081e+04</td>\n",
       "      <td>350.499054</td>\n",
       "      <td>350.474875</td>\n",
       "      <td>0.000178</td>\n",
       "      <td>18.692055</td>\n",
       "    </tr>\n",
       "    <tr>\n",
       "      <th>min</th>\n",
       "      <td>1.664323e+09</td>\n",
       "      <td>18491.123390</td>\n",
       "      <td>18489.490000</td>\n",
       "      <td>-0.001546</td>\n",
       "      <td>-658.653846</td>\n",
       "    </tr>\n",
       "    <tr>\n",
       "      <th>25%</th>\n",
       "      <td>1.664345e+09</td>\n",
       "      <td>18763.729365</td>\n",
       "      <td>18763.765000</td>\n",
       "      <td>-0.000084</td>\n",
       "      <td>-0.454507</td>\n",
       "    </tr>\n",
       "    <tr>\n",
       "      <th>50%</th>\n",
       "      <td>1.664366e+09</td>\n",
       "      <td>19084.970854</td>\n",
       "      <td>19084.890000</td>\n",
       "      <td>0.000002</td>\n",
       "      <td>0.000000</td>\n",
       "    </tr>\n",
       "    <tr>\n",
       "      <th>75%</th>\n",
       "      <td>1.664388e+09</td>\n",
       "      <td>19504.128631</td>\n",
       "      <td>19503.947500</td>\n",
       "      <td>0.000089</td>\n",
       "      <td>0.497677</td>\n",
       "    </tr>\n",
       "    <tr>\n",
       "      <th>max</th>\n",
       "      <td>1.664410e+09</td>\n",
       "      <td>19775.373665</td>\n",
       "      <td>19774.420000</td>\n",
       "      <td>0.002143</td>\n",
       "      <td>1000.000000</td>\n",
       "    </tr>\n",
       "  </tbody>\n",
       "</table>\n",
       "</div>"
      ],
      "text/plain": [
       "       timestamp_sec         avgPx      midprice           ret        Lambda\n",
       "count   1.727900e+04  17279.000000  17279.000000  17279.000000  17279.000000\n",
       "mean    1.664366e+09  19122.641771  19122.596847      0.000002      0.181315\n",
       "std     2.494081e+04    350.499054    350.474875      0.000178     18.692055\n",
       "min     1.664323e+09  18491.123390  18489.490000     -0.001546   -658.653846\n",
       "25%     1.664345e+09  18763.729365  18763.765000     -0.000084     -0.454507\n",
       "50%     1.664366e+09  19084.970854  19084.890000      0.000002      0.000000\n",
       "75%     1.664388e+09  19504.128631  19503.947500      0.000089      0.497677\n",
       "max     1.664410e+09  19775.373665  19774.420000      0.002143   1000.000000"
      ]
     },
     "execution_count": 57,
     "metadata": {},
     "output_type": "execute_result"
    }
   ],
   "source": [
    "px_change_rel_vol.describe()"
   ]
  },
  {
   "cell_type": "markdown",
   "metadata": {},
   "source": [
    "## Construct Quoted Spread"
   ]
  },
  {
   "cell_type": "code",
   "execution_count": 58,
   "metadata": {},
   "outputs": [],
   "source": [
    "qs1 = df1[['timestamp', 'asks[0].price', 'asks[0].amount', 'bids[0].price', 'bids[0].amount']]\n",
    "qs1 = qs1.rename(columns={'asks[0].price':'best_ask_price', 'asks[0].amount':'best_ask_size', 'bids[0].price':'best_bid_price', 'bids[0].amount':'best_bid_size'})\n",
    "\n",
    "# construct feature: prop_spread\n",
    "qs1['prop_spread'] = 2*(qs1['best_ask_price'] - qs1['best_bid_price'])/(qs1['best_ask_price'] + qs1['best_bid_price'])"
   ]
  },
  {
   "cell_type": "code",
   "execution_count": 59,
   "metadata": {},
   "outputs": [],
   "source": [
    "qs1['ms'] = qs1.timestamp.apply(lambda x: int(str(x)[:13]))\n",
    "qs1['datetime_ms'] = pd.to_datetime(qs1['ms'], unit = 'ms')\n",
    "# set index for resampling\n",
    "qs1 = qs1.set_index('datetime_ms')\n",
    "qs1 = qs1[['prop_spread']]"
   ]
  },
  {
   "cell_type": "code",
   "execution_count": 60,
   "metadata": {},
   "outputs": [],
   "source": [
    "lag = \"100ms\""
   ]
  },
  {
   "cell_type": "code",
   "execution_count": 61,
   "metadata": {},
   "outputs": [],
   "source": [
    "qs2 = qs1[['prop_spread']].resample(lag).mean().shift(1).reset_index()\n",
    "qs2 = qs2.fillna(method='ffill').dropna()"
   ]
  },
  {
   "cell_type": "code",
   "execution_count": 62,
   "metadata": {},
   "outputs": [
    {
     "data": {
      "text/plain": [
       "Text(0.5, 1.0, 'Quoted Spread with lag 100ms')"
      ]
     },
     "execution_count": 62,
     "metadata": {},
     "output_type": "execute_result"
    },
    {
     "data": {
      "image/png": "[encoded data removed]",
      "text/plain": [
       "<Figure size 640x480 with 1 Axes>"
      ]
     },
     "metadata": {},
     "output_type": "display_data"
    }
   ],
   "source": [
    "sns.histplot(qs2.prop_spread)\n",
    "plt.title(\"Quoted Spread with lag \" + lag)"
   ]
  },
  {
   "cell_type": "code",
   "execution_count": 63,
   "metadata": {},
   "outputs": [],
   "source": [
    "qs2 = qs2.rename(columns={\"datetime_ms\":\"T\"})"
   ]
  },
  {
   "cell_type": "code",
   "execution_count": 64,
   "metadata": {},
   "outputs": [],
   "source": [
    "quoted_spread = pd.merge_asof(target, qs2, on='T')"
   ]
  },
  {
   "cell_type": "markdown",
   "metadata": {},
   "source": [
    "## Construct Breadth: number of transactions & Immediacy: average time between successive transactions"
   ]
  },
  {
   "cell_type": "code",
   "execution_count": 65,
   "metadata": {},
   "outputs": [],
   "source": [
    "lag = \"250ms\""
   ]
  },
  {
   "cell_type": "code",
   "execution_count": 66,
   "metadata": {},
   "outputs": [],
   "source": [
    "b1 = df2_4[['direction']].resample(lag).count().shift(1).reset_index()\n",
    "b1 = b1.rename(columns={'direction':'numTrade', 'datetime_ms':'T'})\n",
    "\n",
    "breadth = pd.merge_asof(target, b1, on='T')"
   ]
  },
  {
   "cell_type": "code",
   "execution_count": 67,
   "metadata": {},
   "outputs": [],
   "source": [
    "## change parameter here lag = 250\n",
    "breadth['immediacy'] = 250/breadth['numTrade']"
   ]
  },
  {
   "cell_type": "code",
   "execution_count": 68,
   "metadata": {},
   "outputs": [],
   "source": [
    "# replace with lag duration = 250\n",
    "breadth.replace([np.inf, -np.inf], 250, inplace=True)"
   ]
  },
  {
   "cell_type": "code",
   "execution_count": 69,
   "metadata": {},
   "outputs": [
    {
     "data": {
      "text/plain": [
       "0"
      ]
     },
     "execution_count": 69,
     "metadata": {},
     "output_type": "execute_result"
    }
   ],
   "source": [
    "np.isinf(breadth).values.sum()"
   ]
  },
  {
   "cell_type": "code",
   "execution_count": 70,
   "metadata": {},
   "outputs": [
    {
     "data": {
      "text/plain": [
       "<AxesSubplot: xlabel='immediacy', ylabel='Count'>"
      ]
     },
     "execution_count": 70,
     "metadata": {},
     "output_type": "execute_result"
    },
    {
     "data": {
      "image/png": "[encoded data removed]",
      "text/plain": [
       "<Figure size 640x480 with 1 Axes>"
      ]
     },
     "metadata": {},
     "output_type": "display_data"
    }
   ],
   "source": [
    "sns.histplot(breadth.immediacy)"
   ]
  },
  {
   "cell_type": "code",
   "execution_count": 71,
   "metadata": {},
   "outputs": [
    {
     "data": {
      "text/plain": [
       "Text(0.5, 1.0, 'Number of Transaction with lag 250ms')"
      ]
     },
     "execution_count": 71,
     "metadata": {},
     "output_type": "execute_result"
    },
    {
     "data": {
      "image/png": "[encoded data removed]",
      "text/plain": [
       "<Figure size 640x480 with 1 Axes>"
      ]
     },
     "metadata": {},
     "output_type": "display_data"
    }
   ],
   "source": [
    "sns.histplot(breadth.numTrade)\n",
    "plt.title(\"Number of Transaction with lag \" + lag)"
   ]
  },
  {
   "cell_type": "markdown",
   "metadata": {},
   "source": [
    "## Construct Total Volume"
   ]
  },
  {
   "cell_type": "code",
   "execution_count": 72,
   "metadata": {},
   "outputs": [],
   "source": [
    "lag = \"250ms\""
   ]
  },
  {
   "cell_type": "code",
   "execution_count": 73,
   "metadata": {},
   "outputs": [],
   "source": [
    "v1 = df2_4[['amount']].resample(lag).sum().shift(1).reset_index()\n",
    "v1 = v1.rename(columns={'amount':'totVol', 'datetime_ms':'T'})\n",
    "totVol = pd.merge_asof(target, v1, on='T')"
   ]
  },
  {
   "cell_type": "markdown",
   "metadata": {},
   "source": [
    "## Construct Maximum Volume"
   ]
  },
  {
   "cell_type": "code",
   "execution_count": 74,
   "metadata": {},
   "outputs": [],
   "source": [
    "lag = \"250ms\"\n",
    "\n",
    "v2 = df2_4[['amount']].resample(lag).max().shift(1).reset_index()\n",
    "v2 = v2.rename(columns={'amount':'maxVol', 'datetime_ms':'T'})\n",
    "maxVol = pd.merge_asof(target, v2, on='T')\n",
    "maxVol = maxVol.fillna(0)"
   ]
  },
  {
   "cell_type": "code",
   "execution_count": 75,
   "metadata": {},
   "outputs": [
    {
     "data": {
      "text/plain": [
       "<AxesSubplot: xlabel='maxVol', ylabel='Count'>"
      ]
     },
     "execution_count": 75,
     "metadata": {},
     "output_type": "execute_result"
    },
    {
     "data": {
      "image/png": "[encoded data removed]",
      "text/plain": [
       "<Figure size 640x480 with 1 Axes>"
      ]
     },
     "metadata": {},
     "output_type": "display_data"
    }
   ],
   "source": [
    "sns.histplot(maxVol.maxVol)"
   ]
  },
  {
   "cell_type": "markdown",
   "metadata": {},
   "source": [
    "## Put all features together"
   ]
  },
  {
   "cell_type": "code",
   "execution_count": 76,
   "metadata": {},
   "outputs": [],
   "source": [
    "target_1 = target[['T', 'ret']]"
   ]
  },
  {
   "cell_type": "code",
   "execution_count": 77,
   "metadata": {},
   "outputs": [],
   "source": [
    "target_1 = target_1.merge(transaction_imbalance[['T','txn_imbalance_lag_0.1']], how='left', on='T')"
   ]
  },
  {
   "cell_type": "code",
   "execution_count": 78,
   "metadata": {},
   "outputs": [],
   "source": [
    "target_1 = target_1.merge(past_ret[['T','past_ret']], how='left', on='T')"
   ]
  },
  {
   "cell_type": "code",
   "execution_count": 79,
   "metadata": {},
   "outputs": [],
   "source": [
    "target_1 = target_1.merge(depth_imbalance_1[['T','depth_imb']], how='left', on='T')"
   ]
  },
  {
   "cell_type": "code",
   "execution_count": 80,
   "metadata": {},
   "outputs": [],
   "source": [
    "target_1 = target_1.merge(px_change_rel_vol[['T','Lambda']], how='left', on='T')"
   ]
  },
  {
   "cell_type": "code",
   "execution_count": 81,
   "metadata": {},
   "outputs": [],
   "source": [
    "target_1 = target_1.merge(quoted_spread[['T','prop_spread']], how='left', on='T')"
   ]
  },
  {
   "cell_type": "code",
   "execution_count": 82,
   "metadata": {},
   "outputs": [],
   "source": [
    "target_1 = target_1.merge(breadth[['T','numTrade', 'immediacy']], how='left', on='T')"
   ]
  },
  {
   "cell_type": "code",
   "execution_count": 83,
   "metadata": {},
   "outputs": [],
   "source": [
    "target_1 = target_1.merge(totVol[['T','totVol']], how='left', on='T')"
   ]
  },
  {
   "cell_type": "code",
   "execution_count": 84,
   "metadata": {},
   "outputs": [],
   "source": [
    "target_1['avgVol'] = target_1['totVol']/target_1['numTrade']\n",
    "target_1 = target_1.fillna(0)"
   ]
  },
  {
   "cell_type": "code",
   "execution_count": 85,
   "metadata": {},
   "outputs": [],
   "source": [
    "target_1 = target_1.merge(maxVol[['T','maxVol']], how='left', on='T')"
   ]
  },
  {
   "cell_type": "code",
   "execution_count": 86,
   "metadata": {},
   "outputs": [
    {
     "data": {
      "text/html": [
       "<div>\n",
       "<style scoped>\n",
       "    .dataframe tbody tr th:only-of-type {\n",
       "        vertical-align: middle;\n",
       "    }\n",
       "\n",
       "    .dataframe tbody tr th {\n",
       "        vertical-align: top;\n",
       "    }\n",
       "\n",
       "    .dataframe thead th {\n",
       "        text-align: right;\n",
       "    }\n",
       "</style>\n",
       "<table border=\"1\" class=\"dataframe\">\n",
       "  <thead>\n",
       "    <tr style=\"text-align: right;\">\n",
       "      <th></th>\n",
       "      <th>T</th>\n",
       "      <th>ret</th>\n",
       "      <th>txn_imbalance_lag_0.1</th>\n",
       "      <th>past_ret</th>\n",
       "      <th>depth_imb</th>\n",
       "      <th>Lambda</th>\n",
       "      <th>prop_spread</th>\n",
       "      <th>numTrade</th>\n",
       "      <th>immediacy</th>\n",
       "      <th>totVol</th>\n",
       "      <th>avgVol</th>\n",
       "      <th>maxVol</th>\n",
       "    </tr>\n",
       "  </thead>\n",
       "  <tbody>\n",
       "    <tr>\n",
       "      <th>0</th>\n",
       "      <td>2022-09-28 00:00:05</td>\n",
       "      <td>0.000054</td>\n",
       "      <td>1.0</td>\n",
       "      <td>0.000007</td>\n",
       "      <td>0.765533</td>\n",
       "      <td>-0.091944</td>\n",
       "      <td>6.916423e-05</td>\n",
       "      <td>3.0</td>\n",
       "      <td>83.333333</td>\n",
       "      <td>0.11077</td>\n",
       "      <td>0.036923</td>\n",
       "      <td>0.10000</td>\n",
       "    </tr>\n",
       "    <tr>\n",
       "      <th>1</th>\n",
       "      <td>2022-09-28 00:00:10</td>\n",
       "      <td>-0.000055</td>\n",
       "      <td>0.0</td>\n",
       "      <td>0.000003</td>\n",
       "      <td>-0.465616</td>\n",
       "      <td>-0.071168</td>\n",
       "      <td>5.501076e-05</td>\n",
       "      <td>3.0</td>\n",
       "      <td>83.333333</td>\n",
       "      <td>0.01822</td>\n",
       "      <td>0.006073</td>\n",
       "      <td>0.01092</td>\n",
       "    </tr>\n",
       "    <tr>\n",
       "      <th>2</th>\n",
       "      <td>2022-09-28 00:00:15</td>\n",
       "      <td>-0.000139</td>\n",
       "      <td>0.0</td>\n",
       "      <td>-0.000004</td>\n",
       "      <td>-0.996601</td>\n",
       "      <td>-0.752651</td>\n",
       "      <td>6.235196e-05</td>\n",
       "      <td>4.0</td>\n",
       "      <td>62.500000</td>\n",
       "      <td>0.03487</td>\n",
       "      <td>0.008717</td>\n",
       "      <td>0.02211</td>\n",
       "    </tr>\n",
       "    <tr>\n",
       "      <th>3</th>\n",
       "      <td>2022-09-28 00:00:20</td>\n",
       "      <td>0.000046</td>\n",
       "      <td>1.0</td>\n",
       "      <td>0.000028</td>\n",
       "      <td>-0.637949</td>\n",
       "      <td>0.479204</td>\n",
       "      <td>1.834296e-05</td>\n",
       "      <td>15.0</td>\n",
       "      <td>16.666667</td>\n",
       "      <td>1.62657</td>\n",
       "      <td>0.108438</td>\n",
       "      <td>1.27915</td>\n",
       "    </tr>\n",
       "    <tr>\n",
       "      <th>4</th>\n",
       "      <td>2022-09-28 00:00:25</td>\n",
       "      <td>-0.000081</td>\n",
       "      <td>1.0</td>\n",
       "      <td>0.000024</td>\n",
       "      <td>-0.972961</td>\n",
       "      <td>-0.117469</td>\n",
       "      <td>3.878271e-05</td>\n",
       "      <td>3.0</td>\n",
       "      <td>83.333333</td>\n",
       "      <td>0.15817</td>\n",
       "      <td>0.052723</td>\n",
       "      <td>0.12731</td>\n",
       "    </tr>\n",
       "    <tr>\n",
       "      <th>...</th>\n",
       "      <td>...</td>\n",
       "      <td>...</td>\n",
       "      <td>...</td>\n",
       "      <td>...</td>\n",
       "      <td>...</td>\n",
       "      <td>...</td>\n",
       "      <td>...</td>\n",
       "      <td>...</td>\n",
       "      <td>...</td>\n",
       "      <td>...</td>\n",
       "      <td>...</td>\n",
       "      <td>...</td>\n",
       "    </tr>\n",
       "    <tr>\n",
       "      <th>17274</th>\n",
       "      <td>2022-09-28 23:59:35</td>\n",
       "      <td>-0.000033</td>\n",
       "      <td>-1.0</td>\n",
       "      <td>0.000000</td>\n",
       "      <td>0.665666</td>\n",
       "      <td>0.000000</td>\n",
       "      <td>5.151037e-07</td>\n",
       "      <td>1.0</td>\n",
       "      <td>250.000000</td>\n",
       "      <td>0.06089</td>\n",
       "      <td>0.060890</td>\n",
       "      <td>0.06089</td>\n",
       "    </tr>\n",
       "    <tr>\n",
       "      <th>17275</th>\n",
       "      <td>2022-09-28 23:59:40</td>\n",
       "      <td>0.000103</td>\n",
       "      <td>1.0</td>\n",
       "      <td>0.000006</td>\n",
       "      <td>-0.976656</td>\n",
       "      <td>0.262502</td>\n",
       "      <td>2.318097e-05</td>\n",
       "      <td>11.0</td>\n",
       "      <td>22.727273</td>\n",
       "      <td>2.86641</td>\n",
       "      <td>0.260583</td>\n",
       "      <td>1.39356</td>\n",
       "    </tr>\n",
       "    <tr>\n",
       "      <th>17276</th>\n",
       "      <td>2022-09-28 23:59:45</td>\n",
       "      <td>-0.000032</td>\n",
       "      <td>1.0</td>\n",
       "      <td>-0.000010</td>\n",
       "      <td>0.986291</td>\n",
       "      <td>-14.397906</td>\n",
       "      <td>1.596708e-05</td>\n",
       "      <td>2.0</td>\n",
       "      <td>125.000000</td>\n",
       "      <td>0.02000</td>\n",
       "      <td>0.010000</td>\n",
       "      <td>0.01900</td>\n",
       "    </tr>\n",
       "    <tr>\n",
       "      <th>17277</th>\n",
       "      <td>2022-09-28 23:59:50</td>\n",
       "      <td>0.000006</td>\n",
       "      <td>1.0</td>\n",
       "      <td>0.000029</td>\n",
       "      <td>-0.913692</td>\n",
       "      <td>0.470358</td>\n",
       "      <td>6.284050e-05</td>\n",
       "      <td>10.0</td>\n",
       "      <td>25.000000</td>\n",
       "      <td>3.30662</td>\n",
       "      <td>0.330662</td>\n",
       "      <td>1.77691</td>\n",
       "    </tr>\n",
       "    <tr>\n",
       "      <th>17278</th>\n",
       "      <td>2022-09-28 23:59:55</td>\n",
       "      <td>-0.000041</td>\n",
       "      <td>1.0</td>\n",
       "      <td>0.000008</td>\n",
       "      <td>0.785233</td>\n",
       "      <td>0.276849</td>\n",
       "      <td>4.944771e-05</td>\n",
       "      <td>5.0</td>\n",
       "      <td>50.000000</td>\n",
       "      <td>0.05170</td>\n",
       "      <td>0.010340</td>\n",
       "      <td>0.02447</td>\n",
       "    </tr>\n",
       "  </tbody>\n",
       "</table>\n",
       "<p>17279 rows × 12 columns</p>\n",
       "</div>"
      ],
      "text/plain": [
       "                        T       ret  txn_imbalance_lag_0.1  past_ret  \\\n",
       "0     2022-09-28 00:00:05  0.000054                    1.0  0.000007   \n",
       "1     2022-09-28 00:00:10 -0.000055                    0.0  0.000003   \n",
       "2     2022-09-28 00:00:15 -0.000139                    0.0 -0.000004   \n",
       "3     2022-09-28 00:00:20  0.000046                    1.0  0.000028   \n",
       "4     2022-09-28 00:00:25 -0.000081                    1.0  0.000024   \n",
       "...                   ...       ...                    ...       ...   \n",
       "17274 2022-09-28 23:59:35 -0.000033                   -1.0  0.000000   \n",
       "17275 2022-09-28 23:59:40  0.000103                    1.0  0.000006   \n",
       "17276 2022-09-28 23:59:45 -0.000032                    1.0 -0.000010   \n",
       "17277 2022-09-28 23:59:50  0.000006                    1.0  0.000029   \n",
       "17278 2022-09-28 23:59:55 -0.000041                    1.0  0.000008   \n",
       "\n",
       "       depth_imb     Lambda   prop_spread  numTrade   immediacy   totVol  \\\n",
       "0       0.765533  -0.091944  6.916423e-05       3.0   83.333333  0.11077   \n",
       "1      -0.465616  -0.071168  5.501076e-05       3.0   83.333333  0.01822   \n",
       "2      -0.996601  -0.752651  6.235196e-05       4.0   62.500000  0.03487   \n",
       "3      -0.637949   0.479204  1.834296e-05      15.0   16.666667  1.62657   \n",
       "4      -0.972961  -0.117469  3.878271e-05       3.0   83.333333  0.15817   \n",
       "...          ...        ...           ...       ...         ...      ...   \n",
       "17274   0.665666   0.000000  5.151037e-07       1.0  250.000000  0.06089   \n",
       "17275  -0.976656   0.262502  2.318097e-05      11.0   22.727273  2.86641   \n",
       "17276   0.986291 -14.397906  1.596708e-05       2.0  125.000000  0.02000   \n",
       "17277  -0.913692   0.470358  6.284050e-05      10.0   25.000000  3.30662   \n",
       "17278   0.785233   0.276849  4.944771e-05       5.0   50.000000  0.05170   \n",
       "\n",
       "         avgVol   maxVol  \n",
       "0      0.036923  0.10000  \n",
       "1      0.006073  0.01092  \n",
       "2      0.008717  0.02211  \n",
       "3      0.108438  1.27915  \n",
       "4      0.052723  0.12731  \n",
       "...         ...      ...  \n",
       "17274  0.060890  0.06089  \n",
       "17275  0.260583  1.39356  \n",
       "17276  0.010000  0.01900  \n",
       "17277  0.330662  1.77691  \n",
       "17278  0.010340  0.02447  \n",
       "\n",
       "[17279 rows x 12 columns]"
      ]
     },
     "execution_count": 86,
     "metadata": {},
     "output_type": "execute_result"
    }
   ],
   "source": [
    "# data for modelling -> target_1\n",
    "target_1"
   ]
  },
  {
   "cell_type": "code",
   "execution_count": 87,
   "metadata": {},
   "outputs": [
    {
     "data": {
      "text/plain": [
       "0"
      ]
     },
     "execution_count": 87,
     "metadata": {},
     "output_type": "execute_result"
    }
   ],
   "source": [
    "# check infinity\n",
    "np.isinf(target_1).values.sum()"
   ]
  },
  {
   "cell_type": "markdown",
   "metadata": {},
   "source": [
    "## Modelling"
   ]
  },
  {
   "cell_type": "code",
   "execution_count": 88,
   "metadata": {},
   "outputs": [],
   "source": [
    "df = target_1.drop(\"T\", axis=1)"
   ]
  },
  {
   "cell_type": "code",
   "execution_count": 89,
   "metadata": {},
   "outputs": [],
   "source": [
    "df_train = df.iloc[:11520]\n",
    "df_test = df.iloc[11520:]"
   ]
  },
  {
   "cell_type": "code",
   "execution_count": 90,
   "metadata": {},
   "outputs": [],
   "source": [
    "X_1 = df_train.drop(\"ret\", axis=1)\n",
    "y_1 = df_train.ret"
   ]
  },
  {
   "cell_type": "code",
   "execution_count": 91,
   "metadata": {},
   "outputs": [],
   "source": [
    "from sklearn.model_selection import train_test_split\n",
    "X_train, X_valid, y_train, y_valid = train_test_split(X_1, y_1, train_size=0.8, test_size=0.2, random_state=0, shuffle=False)\n",
    "\n",
    "X_test = df_test.drop(\"ret\", axis=1)\n",
    "y_test = df_test.ret"
   ]
  },
  {
   "cell_type": "markdown",
   "metadata": {},
   "source": [
    "## Standardise Columns"
   ]
  },
  {
   "cell_type": "code",
   "execution_count": 92,
   "metadata": {},
   "outputs": [],
   "source": [
    "X_train_1 = (X_train - X_train.mean())/X_train.std()\n",
    "X_valid_1 = (X_valid - X_train.mean())/X_train.std()\n",
    "X_test_1 = (X_test - X_train.mean())/X_train.std()"
   ]
  },
  {
   "cell_type": "markdown",
   "metadata": {},
   "source": [
    "## Winsorisation"
   ]
  },
  {
   "cell_type": "code",
   "execution_count": 93,
   "metadata": {},
   "outputs": [],
   "source": [
    "def clip_series(s, lower, upper):\n",
    "   clipped = s.clip(lower=s.quantile(lower), upper=s.quantile(upper))\n",
    "   return clipped\n",
    "\n",
    "# Manage list of features to be winsorized\n",
    "feature_list = list(X_train_1.columns)\n",
    "\n",
    "for f in feature_list:\n",
    "   X_train_1[f] = clip_series(X_train_1[f], 0.05, 0.95)"
   ]
  },
  {
   "cell_type": "markdown",
   "metadata": {},
   "source": [
    "## OLS"
   ]
  },
  {
   "cell_type": "code",
   "execution_count": 94,
   "metadata": {},
   "outputs": [
    {
     "name": "stdout",
     "output_type": "stream",
     "text": [
      "                            OLS Regression Results                            \n",
      "==============================================================================\n",
      "Dep. Variable:                    ret   R-squared:                       0.002\n",
      "Model:                            OLS   Adj. R-squared:                  0.001\n",
      "Method:                 Least Squares   F-statistic:                     1.557\n",
      "Date:                Wed, 26 Oct 2022   Prob (F-statistic):              0.113\n",
      "Time:                        17:02:04   Log-Likelihood:                 66910.\n",
      "No. Observations:                9216   AIC:                        -1.338e+05\n",
      "Df Residuals:                    9205   BIC:                        -1.337e+05\n",
      "Df Model:                          10                                         \n",
      "Covariance Type:            nonrobust                                         \n",
      "=========================================================================================\n",
      "                            coef    std err          t      P>|t|      [0.025      0.975]\n",
      "-----------------------------------------------------------------------------------------\n",
      "txn_imbalance_lag_0.1 -2.261e-06   1.94e-06     -1.163      0.245   -6.07e-06    1.55e-06\n",
      "past_ret               2.333e-06   2.92e-06      0.799      0.424   -3.39e-06    8.06e-06\n",
      "depth_imb              -2.26e-06    1.8e-06     -1.254      0.210   -5.79e-06    1.27e-06\n",
      "Lambda                 2.176e-05   2.09e-05      1.041      0.298   -1.92e-05    6.27e-05\n",
      "prop_spread           -3.107e-07   2.16e-06     -0.144      0.885   -4.54e-06    3.92e-06\n",
      "numTrade               4.165e-06   6.03e-06      0.690      0.490   -7.66e-06     1.6e-05\n",
      "immediacy             -5.583e-07   2.22e-06     -0.252      0.801    -4.9e-06    3.79e-06\n",
      "totVol                 1.176e-05   9.57e-06      1.229      0.219   -6.99e-06    3.05e-05\n",
      "avgVol                 5.628e-06   5.16e-06      1.090      0.276   -4.49e-06    1.57e-05\n",
      "maxVol                -1.679e-05   6.67e-06     -2.519      0.012   -2.99e-05   -3.73e-06\n",
      "const                  1.676e-06   1.81e-06      0.925      0.355   -1.88e-06    5.23e-06\n",
      "==============================================================================\n",
      "Omnibus:                     1359.214   Durbin-Watson:                   1.914\n",
      "Prob(Omnibus):                  0.000   Jarque-Bera (JB):            15831.900\n",
      "Skew:                          -0.312   Prob(JB):                         0.00\n",
      "Kurtosis:                       9.391   Cond. No.                         14.7\n",
      "==============================================================================\n",
      "\n",
      "Notes:\n",
      "[1] Standard Errors assume that the covariance matrix of the errors is correctly specified.\n"
     ]
    }
   ],
   "source": [
    "import statsmodels.api as sm\n",
    "\n",
    "X_train_ols = sm.add_constant(X_train_1, prepend=False)\n",
    "\n",
    "mod = sm.OLS(y_train, X_train_ols)\n",
    "res = mod.fit()\n",
    "print(res.summary())"
   ]
  },
  {
   "cell_type": "markdown",
   "metadata": {},
   "source": [
    "## Lasso"
   ]
  },
  {
   "cell_type": "code",
   "execution_count": 95,
   "metadata": {},
   "outputs": [
    {
     "name": "stdout",
     "output_type": "stream",
     "text": [
      "Lasso(alpha=0.1)\n",
      "r^2 on validation data : -0.001660\n"
     ]
    }
   ],
   "source": [
    "from sklearn.linear_model import Lasso\n",
    "from sklearn.metrics import r2_score\n",
    "\n",
    "alpha = 0.1\n",
    "lasso = Lasso(alpha=alpha)\n",
    "\n",
    "y_pred_lasso = lasso.fit(X_train_1, y_train).predict(X_valid_1)\n",
    "r2_score_lasso = r2_score(y_valid, y_pred_lasso)\n",
    "print(lasso)\n",
    "print(\"r^2 on validation data : %f\" % r2_score_lasso)"
   ]
  },
  {
   "cell_type": "code",
   "execution_count": 96,
   "metadata": {},
   "outputs": [
    {
     "data": {
      "text/plain": [
       "array([-0.,  0., -0.,  0.,  0.,  0., -0.,  0.,  0., -0.])"
      ]
     },
     "execution_count": 96,
     "metadata": {},
     "output_type": "execute_result"
    }
   ],
   "source": [
    "lasso.coef_"
   ]
  },
  {
   "cell_type": "markdown",
   "metadata": {},
   "source": [
    "## Random Forest"
   ]
  },
  {
   "cell_type": "code",
   "execution_count": 97,
   "metadata": {},
   "outputs": [
    {
     "data": {
      "text/html": [
       "<style>#sk-container-id-1 {color: black;background-color: white;}#sk-container-id-1 pre{padding: 0;}#sk-container-id-1 div.sk-toggleable {background-color: white;}#sk-container-id-1 label.sk-toggleable__label {cursor: pointer;display: block;width: 100%;margin-bottom: 0;padding: 0.3em;box-sizing: border-box;text-align: center;}#sk-container-id-1 label.sk-toggleable__label-arrow:before {content: \"▸\";float: left;margin-right: 0.25em;color: #696969;}#sk-container-id-1 label.sk-toggleable__label-arrow:hover:before {color: black;}#sk-container-id-1 div.sk-estimator:hover label.sk-toggleable__label-arrow:before {color: black;}#sk-container-id-1 div.sk-toggleable__content {max-height: 0;max-width: 0;overflow: hidden;text-align: left;background-color: #f0f8ff;}#sk-container-id-1 div.sk-toggleable__content pre {margin: 0.2em;color: black;border-radius: 0.25em;background-color: #f0f8ff;}#sk-container-id-1 input.sk-toggleable__control:checked~div.sk-toggleable__content {max-height: 200px;max-width: 100%;overflow: auto;}#sk-container-id-1 input.sk-toggleable__control:checked~label.sk-toggleable__label-arrow:before {content: \"▾\";}#sk-container-id-1 div.sk-estimator input.sk-toggleable__control:checked~label.sk-toggleable__label {background-color: #d4ebff;}#sk-container-id-1 div.sk-label input.sk-toggleable__control:checked~label.sk-toggleable__label {background-color: #d4ebff;}#sk-container-id-1 input.sk-hidden--visually {border: 0;clip: rect(1px 1px 1px 1px);clip: rect(1px, 1px, 1px, 1px);height: 1px;margin: -1px;overflow: hidden;padding: 0;position: absolute;width: 1px;}#sk-container-id-1 div.sk-estimator {font-family: monospace;background-color: #f0f8ff;border: 1px dotted black;border-radius: 0.25em;box-sizing: border-box;margin-bottom: 0.5em;}#sk-container-id-1 div.sk-estimator:hover {background-color: #d4ebff;}#sk-container-id-1 div.sk-parallel-item::after {content: \"\";width: 100%;border-bottom: 1px solid gray;flex-grow: 1;}#sk-container-id-1 div.sk-label:hover label.sk-toggleable__label {background-color: #d4ebff;}#sk-container-id-1 div.sk-serial::before {content: \"\";position: absolute;border-left: 1px solid gray;box-sizing: border-box;top: 0;bottom: 0;left: 50%;z-index: 0;}#sk-container-id-1 div.sk-serial {display: flex;flex-direction: column;align-items: center;background-color: white;padding-right: 0.2em;padding-left: 0.2em;position: relative;}#sk-container-id-1 div.sk-item {position: relative;z-index: 1;}#sk-container-id-1 div.sk-parallel {display: flex;align-items: stretch;justify-content: center;background-color: white;position: relative;}#sk-container-id-1 div.sk-item::before, #sk-container-id-1 div.sk-parallel-item::before {content: \"\";position: absolute;border-left: 1px solid gray;box-sizing: border-box;top: 0;bottom: 0;left: 50%;z-index: -1;}#sk-container-id-1 div.sk-parallel-item {display: flex;flex-direction: column;z-index: 1;position: relative;background-color: white;}#sk-container-id-1 div.sk-parallel-item:first-child::after {align-self: flex-end;width: 50%;}#sk-container-id-1 div.sk-parallel-item:last-child::after {align-self: flex-start;width: 50%;}#sk-container-id-1 div.sk-parallel-item:only-child::after {width: 0;}#sk-container-id-1 div.sk-dashed-wrapped {border: 1px dashed gray;margin: 0 0.4em 0.5em 0.4em;box-sizing: border-box;padding-bottom: 0.4em;background-color: white;}#sk-container-id-1 div.sk-label label {font-family: monospace;font-weight: bold;display: inline-block;line-height: 1.2em;}#sk-container-id-1 div.sk-label-container {text-align: center;}#sk-container-id-1 div.sk-container {/* jupyter's `normalize.less` sets `[hidden] { display: none; }` but bootstrap.min.css set `[hidden] { display: none !important; }` so we also need the `!important` here to be able to override the default hidden behavior on the sphinx rendered scikit-learn.org. See: https://github.com/scikit-learn/scikit-learn/issues/21755 */display: inline-block !important;position: relative;}#sk-container-id-1 div.sk-text-repr-fallback {display: none;}</style><div id=\"sk-container-id-1\" class=\"sk-top-container\"><div class=\"sk-text-repr-fallback\"><pre>RandomForestRegressor(max_depth=2, random_state=0)</pre><b>In a Jupyter environment, please rerun this cell to show the HTML representation or trust the notebook. <br />On GitHub, the HTML representation is unable to render, please try loading this page with nbviewer.org.</b></div><div class=\"sk-container\" hidden><div class=\"sk-item\"><div class=\"sk-estimator sk-toggleable\"><input class=\"sk-toggleable__control sk-hidden--visually\" id=\"sk-estimator-id-1\" type=\"checkbox\" checked><label for=\"sk-estimator-id-1\" class=\"sk-toggleable__label sk-toggleable__label-arrow\">RandomForestRegressor</label><div class=\"sk-toggleable__content\"><pre>RandomForestRegressor(max_depth=2, random_state=0)</pre></div></div></div></div></div>"
      ],
      "text/plain": [
       "RandomForestRegressor(max_depth=2, random_state=0)"
      ]
     },
     "execution_count": 97,
     "metadata": {},
     "output_type": "execute_result"
    }
   ],
   "source": [
    "from sklearn.ensemble import RandomForestRegressor\n",
    "\n",
    "regr = RandomForestRegressor(n_estimators=100, max_depth=2, random_state=0)\n",
    "regr.fit(X_train_1, y_train)"
   ]
  },
  {
   "cell_type": "code",
   "execution_count": 98,
   "metadata": {},
   "outputs": [
    {
     "name": "stdout",
     "output_type": "stream",
     "text": [
      "r^2 on validation data : -0.001217\n"
     ]
    }
   ],
   "source": [
    "y_valid_pred = regr.predict(X_valid_1)\n",
    "r2_score_rf = r2_score(y_valid, y_valid_pred)\n",
    "print(\"r^2 on validation data : %f\" % r2_score_rf)"
   ]
  }
 ],
 "metadata": {
  "kernelspec": {
   "display_name": "Python 3.10.7 64-bit",
   "language": "python",
   "name": "python3"
  },
  "language_info": {
   "codemirror_mode": {
    "name": "ipython",
    "version": 3
   },
   "file_extension": ".py",
   "mimetype": "text/x-python",
   "name": "python",
   "nbconvert_exporter": "python",
   "pygments_lexer": "ipython3",
   "version": "3.10.7"
  },
  "orig_nbformat": 4,
  "vscode": {
   "interpreter": {
    "hash": "d62193a71e9c74739063326a6f52db4b29a283e9561eba9fd4168253adc03d40"
   }
  }
 },
 "nbformat": 4,
 "nbformat_minor": 2
}
